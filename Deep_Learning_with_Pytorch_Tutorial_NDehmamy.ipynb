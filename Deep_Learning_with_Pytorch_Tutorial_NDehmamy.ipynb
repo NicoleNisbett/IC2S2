{
  "nbformat": 4,
  "nbformat_minor": 0,
  "metadata": {
    "colab": {
      "name": "Deep Learning with Pytorch Tutorial-NDehmamy.ipynb",
      "provenance": [],
      "include_colab_link": true
    },
    "kernelspec": {
      "name": "python3",
      "display_name": "Python 3"
    },
    "language_info": {
      "name": "python"
    },
    "widgets": {
      "application/vnd.jupyter.widget-state+json": {
        "1810359dd5cd4ac59a2e9b627ae08d0b": {
          "model_module": "@jupyter-widgets/controls",
          "model_name": "HBoxModel",
          "model_module_version": "1.5.0",
          "state": {
            "_dom_classes": [],
            "_model_module": "@jupyter-widgets/controls",
            "_model_module_version": "1.5.0",
            "_model_name": "HBoxModel",
            "_view_count": null,
            "_view_module": "@jupyter-widgets/controls",
            "_view_module_version": "1.5.0",
            "_view_name": "HBoxView",
            "box_style": "",
            "children": [
              "IPY_MODEL_7093105fd10946599b82788329fec6d3",
              "IPY_MODEL_2e993cbfc23246c9a5d81e6d959c42fb",
              "IPY_MODEL_e7e6ca7881204c89916a06a2fdcd8345"
            ],
            "layout": "IPY_MODEL_5e4f73ff1f7a4691941cf53c3f15c301"
          }
        },
        "7093105fd10946599b82788329fec6d3": {
          "model_module": "@jupyter-widgets/controls",
          "model_name": "HTMLModel",
          "model_module_version": "1.5.0",
          "state": {
            "_dom_classes": [],
            "_model_module": "@jupyter-widgets/controls",
            "_model_module_version": "1.5.0",
            "_model_name": "HTMLModel",
            "_view_count": null,
            "_view_module": "@jupyter-widgets/controls",
            "_view_module_version": "1.5.0",
            "_view_name": "HTMLView",
            "description": "",
            "description_tooltip": null,
            "layout": "IPY_MODEL_4f83a85399f8462bb6c549385c65397c",
            "placeholder": "​",
            "style": "IPY_MODEL_a475589a6f5a465fa9497c04cc6e4f46",
            "value": ""
          }
        },
        "2e993cbfc23246c9a5d81e6d959c42fb": {
          "model_module": "@jupyter-widgets/controls",
          "model_name": "FloatProgressModel",
          "model_module_version": "1.5.0",
          "state": {
            "_dom_classes": [],
            "_model_module": "@jupyter-widgets/controls",
            "_model_module_version": "1.5.0",
            "_model_name": "FloatProgressModel",
            "_view_count": null,
            "_view_module": "@jupyter-widgets/controls",
            "_view_module_version": "1.5.0",
            "_view_name": "ProgressView",
            "bar_style": "success",
            "description": "",
            "description_tooltip": null,
            "layout": "IPY_MODEL_24df75610f584783abc021f02a05ab05",
            "max": 9912422,
            "min": 0,
            "orientation": "horizontal",
            "style": "IPY_MODEL_fad6a1c563e04193bd192a0d11a3c405",
            "value": 9912422
          }
        },
        "e7e6ca7881204c89916a06a2fdcd8345": {
          "model_module": "@jupyter-widgets/controls",
          "model_name": "HTMLModel",
          "model_module_version": "1.5.0",
          "state": {
            "_dom_classes": [],
            "_model_module": "@jupyter-widgets/controls",
            "_model_module_version": "1.5.0",
            "_model_name": "HTMLModel",
            "_view_count": null,
            "_view_module": "@jupyter-widgets/controls",
            "_view_module_version": "1.5.0",
            "_view_name": "HTMLView",
            "description": "",
            "description_tooltip": null,
            "layout": "IPY_MODEL_161ff0430ef247db99b1cd898a910da6",
            "placeholder": "​",
            "style": "IPY_MODEL_723f4739e26c4750b74a6924d1c2f976",
            "value": " 9913344/? [00:00&lt;00:00, 17604134.86it/s]"
          }
        },
        "5e4f73ff1f7a4691941cf53c3f15c301": {
          "model_module": "@jupyter-widgets/base",
          "model_name": "LayoutModel",
          "model_module_version": "1.2.0",
          "state": {
            "_model_module": "@jupyter-widgets/base",
            "_model_module_version": "1.2.0",
            "_model_name": "LayoutModel",
            "_view_count": null,
            "_view_module": "@jupyter-widgets/base",
            "_view_module_version": "1.2.0",
            "_view_name": "LayoutView",
            "align_content": null,
            "align_items": null,
            "align_self": null,
            "border": null,
            "bottom": null,
            "display": null,
            "flex": null,
            "flex_flow": null,
            "grid_area": null,
            "grid_auto_columns": null,
            "grid_auto_flow": null,
            "grid_auto_rows": null,
            "grid_column": null,
            "grid_gap": null,
            "grid_row": null,
            "grid_template_areas": null,
            "grid_template_columns": null,
            "grid_template_rows": null,
            "height": null,
            "justify_content": null,
            "justify_items": null,
            "left": null,
            "margin": null,
            "max_height": null,
            "max_width": null,
            "min_height": null,
            "min_width": null,
            "object_fit": null,
            "object_position": null,
            "order": null,
            "overflow": null,
            "overflow_x": null,
            "overflow_y": null,
            "padding": null,
            "right": null,
            "top": null,
            "visibility": null,
            "width": null
          }
        },
        "4f83a85399f8462bb6c549385c65397c": {
          "model_module": "@jupyter-widgets/base",
          "model_name": "LayoutModel",
          "model_module_version": "1.2.0",
          "state": {
            "_model_module": "@jupyter-widgets/base",
            "_model_module_version": "1.2.0",
            "_model_name": "LayoutModel",
            "_view_count": null,
            "_view_module": "@jupyter-widgets/base",
            "_view_module_version": "1.2.0",
            "_view_name": "LayoutView",
            "align_content": null,
            "align_items": null,
            "align_self": null,
            "border": null,
            "bottom": null,
            "display": null,
            "flex": null,
            "flex_flow": null,
            "grid_area": null,
            "grid_auto_columns": null,
            "grid_auto_flow": null,
            "grid_auto_rows": null,
            "grid_column": null,
            "grid_gap": null,
            "grid_row": null,
            "grid_template_areas": null,
            "grid_template_columns": null,
            "grid_template_rows": null,
            "height": null,
            "justify_content": null,
            "justify_items": null,
            "left": null,
            "margin": null,
            "max_height": null,
            "max_width": null,
            "min_height": null,
            "min_width": null,
            "object_fit": null,
            "object_position": null,
            "order": null,
            "overflow": null,
            "overflow_x": null,
            "overflow_y": null,
            "padding": null,
            "right": null,
            "top": null,
            "visibility": null,
            "width": null
          }
        },
        "a475589a6f5a465fa9497c04cc6e4f46": {
          "model_module": "@jupyter-widgets/controls",
          "model_name": "DescriptionStyleModel",
          "model_module_version": "1.5.0",
          "state": {
            "_model_module": "@jupyter-widgets/controls",
            "_model_module_version": "1.5.0",
            "_model_name": "DescriptionStyleModel",
            "_view_count": null,
            "_view_module": "@jupyter-widgets/base",
            "_view_module_version": "1.2.0",
            "_view_name": "StyleView",
            "description_width": ""
          }
        },
        "24df75610f584783abc021f02a05ab05": {
          "model_module": "@jupyter-widgets/base",
          "model_name": "LayoutModel",
          "model_module_version": "1.2.0",
          "state": {
            "_model_module": "@jupyter-widgets/base",
            "_model_module_version": "1.2.0",
            "_model_name": "LayoutModel",
            "_view_count": null,
            "_view_module": "@jupyter-widgets/base",
            "_view_module_version": "1.2.0",
            "_view_name": "LayoutView",
            "align_content": null,
            "align_items": null,
            "align_self": null,
            "border": null,
            "bottom": null,
            "display": null,
            "flex": null,
            "flex_flow": null,
            "grid_area": null,
            "grid_auto_columns": null,
            "grid_auto_flow": null,
            "grid_auto_rows": null,
            "grid_column": null,
            "grid_gap": null,
            "grid_row": null,
            "grid_template_areas": null,
            "grid_template_columns": null,
            "grid_template_rows": null,
            "height": null,
            "justify_content": null,
            "justify_items": null,
            "left": null,
            "margin": null,
            "max_height": null,
            "max_width": null,
            "min_height": null,
            "min_width": null,
            "object_fit": null,
            "object_position": null,
            "order": null,
            "overflow": null,
            "overflow_x": null,
            "overflow_y": null,
            "padding": null,
            "right": null,
            "top": null,
            "visibility": null,
            "width": null
          }
        },
        "fad6a1c563e04193bd192a0d11a3c405": {
          "model_module": "@jupyter-widgets/controls",
          "model_name": "ProgressStyleModel",
          "model_module_version": "1.5.0",
          "state": {
            "_model_module": "@jupyter-widgets/controls",
            "_model_module_version": "1.5.0",
            "_model_name": "ProgressStyleModel",
            "_view_count": null,
            "_view_module": "@jupyter-widgets/base",
            "_view_module_version": "1.2.0",
            "_view_name": "StyleView",
            "bar_color": null,
            "description_width": ""
          }
        },
        "161ff0430ef247db99b1cd898a910da6": {
          "model_module": "@jupyter-widgets/base",
          "model_name": "LayoutModel",
          "model_module_version": "1.2.0",
          "state": {
            "_model_module": "@jupyter-widgets/base",
            "_model_module_version": "1.2.0",
            "_model_name": "LayoutModel",
            "_view_count": null,
            "_view_module": "@jupyter-widgets/base",
            "_view_module_version": "1.2.0",
            "_view_name": "LayoutView",
            "align_content": null,
            "align_items": null,
            "align_self": null,
            "border": null,
            "bottom": null,
            "display": null,
            "flex": null,
            "flex_flow": null,
            "grid_area": null,
            "grid_auto_columns": null,
            "grid_auto_flow": null,
            "grid_auto_rows": null,
            "grid_column": null,
            "grid_gap": null,
            "grid_row": null,
            "grid_template_areas": null,
            "grid_template_columns": null,
            "grid_template_rows": null,
            "height": null,
            "justify_content": null,
            "justify_items": null,
            "left": null,
            "margin": null,
            "max_height": null,
            "max_width": null,
            "min_height": null,
            "min_width": null,
            "object_fit": null,
            "object_position": null,
            "order": null,
            "overflow": null,
            "overflow_x": null,
            "overflow_y": null,
            "padding": null,
            "right": null,
            "top": null,
            "visibility": null,
            "width": null
          }
        },
        "723f4739e26c4750b74a6924d1c2f976": {
          "model_module": "@jupyter-widgets/controls",
          "model_name": "DescriptionStyleModel",
          "model_module_version": "1.5.0",
          "state": {
            "_model_module": "@jupyter-widgets/controls",
            "_model_module_version": "1.5.0",
            "_model_name": "DescriptionStyleModel",
            "_view_count": null,
            "_view_module": "@jupyter-widgets/base",
            "_view_module_version": "1.2.0",
            "_view_name": "StyleView",
            "description_width": ""
          }
        },
        "7cd1cdc8fab8474dae95bee5f79d8aee": {
          "model_module": "@jupyter-widgets/controls",
          "model_name": "HBoxModel",
          "model_module_version": "1.5.0",
          "state": {
            "_dom_classes": [],
            "_model_module": "@jupyter-widgets/controls",
            "_model_module_version": "1.5.0",
            "_model_name": "HBoxModel",
            "_view_count": null,
            "_view_module": "@jupyter-widgets/controls",
            "_view_module_version": "1.5.0",
            "_view_name": "HBoxView",
            "box_style": "",
            "children": [
              "IPY_MODEL_d6f42f78b3c444eea5ed6bcf855f3803",
              "IPY_MODEL_18a7d715b1a74a5da894f3e23b9b976b",
              "IPY_MODEL_cdcc404e92954e449b0525e029ae8f0c"
            ],
            "layout": "IPY_MODEL_81528e65210e4057b56e5d0b76ebde2c"
          }
        },
        "d6f42f78b3c444eea5ed6bcf855f3803": {
          "model_module": "@jupyter-widgets/controls",
          "model_name": "HTMLModel",
          "model_module_version": "1.5.0",
          "state": {
            "_dom_classes": [],
            "_model_module": "@jupyter-widgets/controls",
            "_model_module_version": "1.5.0",
            "_model_name": "HTMLModel",
            "_view_count": null,
            "_view_module": "@jupyter-widgets/controls",
            "_view_module_version": "1.5.0",
            "_view_name": "HTMLView",
            "description": "",
            "description_tooltip": null,
            "layout": "IPY_MODEL_af98c4e29815401e81351de5654bf29b",
            "placeholder": "​",
            "style": "IPY_MODEL_8b56179f2eeb4c2680b16f9dd205917d",
            "value": ""
          }
        },
        "18a7d715b1a74a5da894f3e23b9b976b": {
          "model_module": "@jupyter-widgets/controls",
          "model_name": "FloatProgressModel",
          "model_module_version": "1.5.0",
          "state": {
            "_dom_classes": [],
            "_model_module": "@jupyter-widgets/controls",
            "_model_module_version": "1.5.0",
            "_model_name": "FloatProgressModel",
            "_view_count": null,
            "_view_module": "@jupyter-widgets/controls",
            "_view_module_version": "1.5.0",
            "_view_name": "ProgressView",
            "bar_style": "success",
            "description": "",
            "description_tooltip": null,
            "layout": "IPY_MODEL_bc78f2c253e54ae7894f4f5b58ff8d01",
            "max": 28881,
            "min": 0,
            "orientation": "horizontal",
            "style": "IPY_MODEL_45268f6f408c487d9d1e7ae7d67d8155",
            "value": 28881
          }
        },
        "cdcc404e92954e449b0525e029ae8f0c": {
          "model_module": "@jupyter-widgets/controls",
          "model_name": "HTMLModel",
          "model_module_version": "1.5.0",
          "state": {
            "_dom_classes": [],
            "_model_module": "@jupyter-widgets/controls",
            "_model_module_version": "1.5.0",
            "_model_name": "HTMLModel",
            "_view_count": null,
            "_view_module": "@jupyter-widgets/controls",
            "_view_module_version": "1.5.0",
            "_view_name": "HTMLView",
            "description": "",
            "description_tooltip": null,
            "layout": "IPY_MODEL_f1cbfe554e8c4a23abdb869cf388ea7c",
            "placeholder": "​",
            "style": "IPY_MODEL_cbbb0be1c3e0450db51886f6fec71933",
            "value": " 29696/? [00:00&lt;00:00, 603059.27it/s]"
          }
        },
        "81528e65210e4057b56e5d0b76ebde2c": {
          "model_module": "@jupyter-widgets/base",
          "model_name": "LayoutModel",
          "model_module_version": "1.2.0",
          "state": {
            "_model_module": "@jupyter-widgets/base",
            "_model_module_version": "1.2.0",
            "_model_name": "LayoutModel",
            "_view_count": null,
            "_view_module": "@jupyter-widgets/base",
            "_view_module_version": "1.2.0",
            "_view_name": "LayoutView",
            "align_content": null,
            "align_items": null,
            "align_self": null,
            "border": null,
            "bottom": null,
            "display": null,
            "flex": null,
            "flex_flow": null,
            "grid_area": null,
            "grid_auto_columns": null,
            "grid_auto_flow": null,
            "grid_auto_rows": null,
            "grid_column": null,
            "grid_gap": null,
            "grid_row": null,
            "grid_template_areas": null,
            "grid_template_columns": null,
            "grid_template_rows": null,
            "height": null,
            "justify_content": null,
            "justify_items": null,
            "left": null,
            "margin": null,
            "max_height": null,
            "max_width": null,
            "min_height": null,
            "min_width": null,
            "object_fit": null,
            "object_position": null,
            "order": null,
            "overflow": null,
            "overflow_x": null,
            "overflow_y": null,
            "padding": null,
            "right": null,
            "top": null,
            "visibility": null,
            "width": null
          }
        },
        "af98c4e29815401e81351de5654bf29b": {
          "model_module": "@jupyter-widgets/base",
          "model_name": "LayoutModel",
          "model_module_version": "1.2.0",
          "state": {
            "_model_module": "@jupyter-widgets/base",
            "_model_module_version": "1.2.0",
            "_model_name": "LayoutModel",
            "_view_count": null,
            "_view_module": "@jupyter-widgets/base",
            "_view_module_version": "1.2.0",
            "_view_name": "LayoutView",
            "align_content": null,
            "align_items": null,
            "align_self": null,
            "border": null,
            "bottom": null,
            "display": null,
            "flex": null,
            "flex_flow": null,
            "grid_area": null,
            "grid_auto_columns": null,
            "grid_auto_flow": null,
            "grid_auto_rows": null,
            "grid_column": null,
            "grid_gap": null,
            "grid_row": null,
            "grid_template_areas": null,
            "grid_template_columns": null,
            "grid_template_rows": null,
            "height": null,
            "justify_content": null,
            "justify_items": null,
            "left": null,
            "margin": null,
            "max_height": null,
            "max_width": null,
            "min_height": null,
            "min_width": null,
            "object_fit": null,
            "object_position": null,
            "order": null,
            "overflow": null,
            "overflow_x": null,
            "overflow_y": null,
            "padding": null,
            "right": null,
            "top": null,
            "visibility": null,
            "width": null
          }
        },
        "8b56179f2eeb4c2680b16f9dd205917d": {
          "model_module": "@jupyter-widgets/controls",
          "model_name": "DescriptionStyleModel",
          "model_module_version": "1.5.0",
          "state": {
            "_model_module": "@jupyter-widgets/controls",
            "_model_module_version": "1.5.0",
            "_model_name": "DescriptionStyleModel",
            "_view_count": null,
            "_view_module": "@jupyter-widgets/base",
            "_view_module_version": "1.2.0",
            "_view_name": "StyleView",
            "description_width": ""
          }
        },
        "bc78f2c253e54ae7894f4f5b58ff8d01": {
          "model_module": "@jupyter-widgets/base",
          "model_name": "LayoutModel",
          "model_module_version": "1.2.0",
          "state": {
            "_model_module": "@jupyter-widgets/base",
            "_model_module_version": "1.2.0",
            "_model_name": "LayoutModel",
            "_view_count": null,
            "_view_module": "@jupyter-widgets/base",
            "_view_module_version": "1.2.0",
            "_view_name": "LayoutView",
            "align_content": null,
            "align_items": null,
            "align_self": null,
            "border": null,
            "bottom": null,
            "display": null,
            "flex": null,
            "flex_flow": null,
            "grid_area": null,
            "grid_auto_columns": null,
            "grid_auto_flow": null,
            "grid_auto_rows": null,
            "grid_column": null,
            "grid_gap": null,
            "grid_row": null,
            "grid_template_areas": null,
            "grid_template_columns": null,
            "grid_template_rows": null,
            "height": null,
            "justify_content": null,
            "justify_items": null,
            "left": null,
            "margin": null,
            "max_height": null,
            "max_width": null,
            "min_height": null,
            "min_width": null,
            "object_fit": null,
            "object_position": null,
            "order": null,
            "overflow": null,
            "overflow_x": null,
            "overflow_y": null,
            "padding": null,
            "right": null,
            "top": null,
            "visibility": null,
            "width": null
          }
        },
        "45268f6f408c487d9d1e7ae7d67d8155": {
          "model_module": "@jupyter-widgets/controls",
          "model_name": "ProgressStyleModel",
          "model_module_version": "1.5.0",
          "state": {
            "_model_module": "@jupyter-widgets/controls",
            "_model_module_version": "1.5.0",
            "_model_name": "ProgressStyleModel",
            "_view_count": null,
            "_view_module": "@jupyter-widgets/base",
            "_view_module_version": "1.2.0",
            "_view_name": "StyleView",
            "bar_color": null,
            "description_width": ""
          }
        },
        "f1cbfe554e8c4a23abdb869cf388ea7c": {
          "model_module": "@jupyter-widgets/base",
          "model_name": "LayoutModel",
          "model_module_version": "1.2.0",
          "state": {
            "_model_module": "@jupyter-widgets/base",
            "_model_module_version": "1.2.0",
            "_model_name": "LayoutModel",
            "_view_count": null,
            "_view_module": "@jupyter-widgets/base",
            "_view_module_version": "1.2.0",
            "_view_name": "LayoutView",
            "align_content": null,
            "align_items": null,
            "align_self": null,
            "border": null,
            "bottom": null,
            "display": null,
            "flex": null,
            "flex_flow": null,
            "grid_area": null,
            "grid_auto_columns": null,
            "grid_auto_flow": null,
            "grid_auto_rows": null,
            "grid_column": null,
            "grid_gap": null,
            "grid_row": null,
            "grid_template_areas": null,
            "grid_template_columns": null,
            "grid_template_rows": null,
            "height": null,
            "justify_content": null,
            "justify_items": null,
            "left": null,
            "margin": null,
            "max_height": null,
            "max_width": null,
            "min_height": null,
            "min_width": null,
            "object_fit": null,
            "object_position": null,
            "order": null,
            "overflow": null,
            "overflow_x": null,
            "overflow_y": null,
            "padding": null,
            "right": null,
            "top": null,
            "visibility": null,
            "width": null
          }
        },
        "cbbb0be1c3e0450db51886f6fec71933": {
          "model_module": "@jupyter-widgets/controls",
          "model_name": "DescriptionStyleModel",
          "model_module_version": "1.5.0",
          "state": {
            "_model_module": "@jupyter-widgets/controls",
            "_model_module_version": "1.5.0",
            "_model_name": "DescriptionStyleModel",
            "_view_count": null,
            "_view_module": "@jupyter-widgets/base",
            "_view_module_version": "1.2.0",
            "_view_name": "StyleView",
            "description_width": ""
          }
        },
        "5db2d9eb2c6540b1a8299620598d9e86": {
          "model_module": "@jupyter-widgets/controls",
          "model_name": "HBoxModel",
          "model_module_version": "1.5.0",
          "state": {
            "_dom_classes": [],
            "_model_module": "@jupyter-widgets/controls",
            "_model_module_version": "1.5.0",
            "_model_name": "HBoxModel",
            "_view_count": null,
            "_view_module": "@jupyter-widgets/controls",
            "_view_module_version": "1.5.0",
            "_view_name": "HBoxView",
            "box_style": "",
            "children": [
              "IPY_MODEL_ebb7d7662c06484b88170968a45cbec8",
              "IPY_MODEL_fee68799f23241a1ae64f2cbc168d89a",
              "IPY_MODEL_eda5669bcf3d4e2680da285ffe8f8d2d"
            ],
            "layout": "IPY_MODEL_df6764eb6e274253aa35c60c63b84152"
          }
        },
        "ebb7d7662c06484b88170968a45cbec8": {
          "model_module": "@jupyter-widgets/controls",
          "model_name": "HTMLModel",
          "model_module_version": "1.5.0",
          "state": {
            "_dom_classes": [],
            "_model_module": "@jupyter-widgets/controls",
            "_model_module_version": "1.5.0",
            "_model_name": "HTMLModel",
            "_view_count": null,
            "_view_module": "@jupyter-widgets/controls",
            "_view_module_version": "1.5.0",
            "_view_name": "HTMLView",
            "description": "",
            "description_tooltip": null,
            "layout": "IPY_MODEL_dd1dd4b7793d4cf49d5b99c116ce84d5",
            "placeholder": "​",
            "style": "IPY_MODEL_1eb745fb03bb41d7b2367c47a66ef7f1",
            "value": ""
          }
        },
        "fee68799f23241a1ae64f2cbc168d89a": {
          "model_module": "@jupyter-widgets/controls",
          "model_name": "FloatProgressModel",
          "model_module_version": "1.5.0",
          "state": {
            "_dom_classes": [],
            "_model_module": "@jupyter-widgets/controls",
            "_model_module_version": "1.5.0",
            "_model_name": "FloatProgressModel",
            "_view_count": null,
            "_view_module": "@jupyter-widgets/controls",
            "_view_module_version": "1.5.0",
            "_view_name": "ProgressView",
            "bar_style": "success",
            "description": "",
            "description_tooltip": null,
            "layout": "IPY_MODEL_e691172d70df411bb434b1d90a51ccdf",
            "max": 1648877,
            "min": 0,
            "orientation": "horizontal",
            "style": "IPY_MODEL_c8ee8e5811fc497f811e06d58604e18e",
            "value": 1648877
          }
        },
        "eda5669bcf3d4e2680da285ffe8f8d2d": {
          "model_module": "@jupyter-widgets/controls",
          "model_name": "HTMLModel",
          "model_module_version": "1.5.0",
          "state": {
            "_dom_classes": [],
            "_model_module": "@jupyter-widgets/controls",
            "_model_module_version": "1.5.0",
            "_model_name": "HTMLModel",
            "_view_count": null,
            "_view_module": "@jupyter-widgets/controls",
            "_view_module_version": "1.5.0",
            "_view_name": "HTMLView",
            "description": "",
            "description_tooltip": null,
            "layout": "IPY_MODEL_79490e00ac1946548b46cb8d524d774e",
            "placeholder": "​",
            "style": "IPY_MODEL_ad6a6d49c4c648ec994eff78f654985b",
            "value": " 1649664/? [00:00&lt;00:00, 14714332.73it/s]"
          }
        },
        "df6764eb6e274253aa35c60c63b84152": {
          "model_module": "@jupyter-widgets/base",
          "model_name": "LayoutModel",
          "model_module_version": "1.2.0",
          "state": {
            "_model_module": "@jupyter-widgets/base",
            "_model_module_version": "1.2.0",
            "_model_name": "LayoutModel",
            "_view_count": null,
            "_view_module": "@jupyter-widgets/base",
            "_view_module_version": "1.2.0",
            "_view_name": "LayoutView",
            "align_content": null,
            "align_items": null,
            "align_self": null,
            "border": null,
            "bottom": null,
            "display": null,
            "flex": null,
            "flex_flow": null,
            "grid_area": null,
            "grid_auto_columns": null,
            "grid_auto_flow": null,
            "grid_auto_rows": null,
            "grid_column": null,
            "grid_gap": null,
            "grid_row": null,
            "grid_template_areas": null,
            "grid_template_columns": null,
            "grid_template_rows": null,
            "height": null,
            "justify_content": null,
            "justify_items": null,
            "left": null,
            "margin": null,
            "max_height": null,
            "max_width": null,
            "min_height": null,
            "min_width": null,
            "object_fit": null,
            "object_position": null,
            "order": null,
            "overflow": null,
            "overflow_x": null,
            "overflow_y": null,
            "padding": null,
            "right": null,
            "top": null,
            "visibility": null,
            "width": null
          }
        },
        "dd1dd4b7793d4cf49d5b99c116ce84d5": {
          "model_module": "@jupyter-widgets/base",
          "model_name": "LayoutModel",
          "model_module_version": "1.2.0",
          "state": {
            "_model_module": "@jupyter-widgets/base",
            "_model_module_version": "1.2.0",
            "_model_name": "LayoutModel",
            "_view_count": null,
            "_view_module": "@jupyter-widgets/base",
            "_view_module_version": "1.2.0",
            "_view_name": "LayoutView",
            "align_content": null,
            "align_items": null,
            "align_self": null,
            "border": null,
            "bottom": null,
            "display": null,
            "flex": null,
            "flex_flow": null,
            "grid_area": null,
            "grid_auto_columns": null,
            "grid_auto_flow": null,
            "grid_auto_rows": null,
            "grid_column": null,
            "grid_gap": null,
            "grid_row": null,
            "grid_template_areas": null,
            "grid_template_columns": null,
            "grid_template_rows": null,
            "height": null,
            "justify_content": null,
            "justify_items": null,
            "left": null,
            "margin": null,
            "max_height": null,
            "max_width": null,
            "min_height": null,
            "min_width": null,
            "object_fit": null,
            "object_position": null,
            "order": null,
            "overflow": null,
            "overflow_x": null,
            "overflow_y": null,
            "padding": null,
            "right": null,
            "top": null,
            "visibility": null,
            "width": null
          }
        },
        "1eb745fb03bb41d7b2367c47a66ef7f1": {
          "model_module": "@jupyter-widgets/controls",
          "model_name": "DescriptionStyleModel",
          "model_module_version": "1.5.0",
          "state": {
            "_model_module": "@jupyter-widgets/controls",
            "_model_module_version": "1.5.0",
            "_model_name": "DescriptionStyleModel",
            "_view_count": null,
            "_view_module": "@jupyter-widgets/base",
            "_view_module_version": "1.2.0",
            "_view_name": "StyleView",
            "description_width": ""
          }
        },
        "e691172d70df411bb434b1d90a51ccdf": {
          "model_module": "@jupyter-widgets/base",
          "model_name": "LayoutModel",
          "model_module_version": "1.2.0",
          "state": {
            "_model_module": "@jupyter-widgets/base",
            "_model_module_version": "1.2.0",
            "_model_name": "LayoutModel",
            "_view_count": null,
            "_view_module": "@jupyter-widgets/base",
            "_view_module_version": "1.2.0",
            "_view_name": "LayoutView",
            "align_content": null,
            "align_items": null,
            "align_self": null,
            "border": null,
            "bottom": null,
            "display": null,
            "flex": null,
            "flex_flow": null,
            "grid_area": null,
            "grid_auto_columns": null,
            "grid_auto_flow": null,
            "grid_auto_rows": null,
            "grid_column": null,
            "grid_gap": null,
            "grid_row": null,
            "grid_template_areas": null,
            "grid_template_columns": null,
            "grid_template_rows": null,
            "height": null,
            "justify_content": null,
            "justify_items": null,
            "left": null,
            "margin": null,
            "max_height": null,
            "max_width": null,
            "min_height": null,
            "min_width": null,
            "object_fit": null,
            "object_position": null,
            "order": null,
            "overflow": null,
            "overflow_x": null,
            "overflow_y": null,
            "padding": null,
            "right": null,
            "top": null,
            "visibility": null,
            "width": null
          }
        },
        "c8ee8e5811fc497f811e06d58604e18e": {
          "model_module": "@jupyter-widgets/controls",
          "model_name": "ProgressStyleModel",
          "model_module_version": "1.5.0",
          "state": {
            "_model_module": "@jupyter-widgets/controls",
            "_model_module_version": "1.5.0",
            "_model_name": "ProgressStyleModel",
            "_view_count": null,
            "_view_module": "@jupyter-widgets/base",
            "_view_module_version": "1.2.0",
            "_view_name": "StyleView",
            "bar_color": null,
            "description_width": ""
          }
        },
        "79490e00ac1946548b46cb8d524d774e": {
          "model_module": "@jupyter-widgets/base",
          "model_name": "LayoutModel",
          "model_module_version": "1.2.0",
          "state": {
            "_model_module": "@jupyter-widgets/base",
            "_model_module_version": "1.2.0",
            "_model_name": "LayoutModel",
            "_view_count": null,
            "_view_module": "@jupyter-widgets/base",
            "_view_module_version": "1.2.0",
            "_view_name": "LayoutView",
            "align_content": null,
            "align_items": null,
            "align_self": null,
            "border": null,
            "bottom": null,
            "display": null,
            "flex": null,
            "flex_flow": null,
            "grid_area": null,
            "grid_auto_columns": null,
            "grid_auto_flow": null,
            "grid_auto_rows": null,
            "grid_column": null,
            "grid_gap": null,
            "grid_row": null,
            "grid_template_areas": null,
            "grid_template_columns": null,
            "grid_template_rows": null,
            "height": null,
            "justify_content": null,
            "justify_items": null,
            "left": null,
            "margin": null,
            "max_height": null,
            "max_width": null,
            "min_height": null,
            "min_width": null,
            "object_fit": null,
            "object_position": null,
            "order": null,
            "overflow": null,
            "overflow_x": null,
            "overflow_y": null,
            "padding": null,
            "right": null,
            "top": null,
            "visibility": null,
            "width": null
          }
        },
        "ad6a6d49c4c648ec994eff78f654985b": {
          "model_module": "@jupyter-widgets/controls",
          "model_name": "DescriptionStyleModel",
          "model_module_version": "1.5.0",
          "state": {
            "_model_module": "@jupyter-widgets/controls",
            "_model_module_version": "1.5.0",
            "_model_name": "DescriptionStyleModel",
            "_view_count": null,
            "_view_module": "@jupyter-widgets/base",
            "_view_module_version": "1.2.0",
            "_view_name": "StyleView",
            "description_width": ""
          }
        },
        "c429bf09449a4286a92ddbfe8d7fb2f0": {
          "model_module": "@jupyter-widgets/controls",
          "model_name": "HBoxModel",
          "model_module_version": "1.5.0",
          "state": {
            "_dom_classes": [],
            "_model_module": "@jupyter-widgets/controls",
            "_model_module_version": "1.5.0",
            "_model_name": "HBoxModel",
            "_view_count": null,
            "_view_module": "@jupyter-widgets/controls",
            "_view_module_version": "1.5.0",
            "_view_name": "HBoxView",
            "box_style": "",
            "children": [
              "IPY_MODEL_2a3a8df2f59d4bad871b48bfe904d98e",
              "IPY_MODEL_32582339a9a347369c298404923121f0",
              "IPY_MODEL_5ab80dc0c9474b998440937728dcd300"
            ],
            "layout": "IPY_MODEL_2341a6c92fc1470ea6a382c6cee95b5e"
          }
        },
        "2a3a8df2f59d4bad871b48bfe904d98e": {
          "model_module": "@jupyter-widgets/controls",
          "model_name": "HTMLModel",
          "model_module_version": "1.5.0",
          "state": {
            "_dom_classes": [],
            "_model_module": "@jupyter-widgets/controls",
            "_model_module_version": "1.5.0",
            "_model_name": "HTMLModel",
            "_view_count": null,
            "_view_module": "@jupyter-widgets/controls",
            "_view_module_version": "1.5.0",
            "_view_name": "HTMLView",
            "description": "",
            "description_tooltip": null,
            "layout": "IPY_MODEL_d561e439138943318c9ca5d6ac402ba7",
            "placeholder": "​",
            "style": "IPY_MODEL_1a26eed11dfe49ef92d4afef72c44b57",
            "value": ""
          }
        },
        "32582339a9a347369c298404923121f0": {
          "model_module": "@jupyter-widgets/controls",
          "model_name": "FloatProgressModel",
          "model_module_version": "1.5.0",
          "state": {
            "_dom_classes": [],
            "_model_module": "@jupyter-widgets/controls",
            "_model_module_version": "1.5.0",
            "_model_name": "FloatProgressModel",
            "_view_count": null,
            "_view_module": "@jupyter-widgets/controls",
            "_view_module_version": "1.5.0",
            "_view_name": "ProgressView",
            "bar_style": "success",
            "description": "",
            "description_tooltip": null,
            "layout": "IPY_MODEL_ce935a57c26f438caed54ee0cdb6847a",
            "max": 4542,
            "min": 0,
            "orientation": "horizontal",
            "style": "IPY_MODEL_88df0934c0a74f719ac50bde196e6f4e",
            "value": 4542
          }
        },
        "5ab80dc0c9474b998440937728dcd300": {
          "model_module": "@jupyter-widgets/controls",
          "model_name": "HTMLModel",
          "model_module_version": "1.5.0",
          "state": {
            "_dom_classes": [],
            "_model_module": "@jupyter-widgets/controls",
            "_model_module_version": "1.5.0",
            "_model_name": "HTMLModel",
            "_view_count": null,
            "_view_module": "@jupyter-widgets/controls",
            "_view_module_version": "1.5.0",
            "_view_name": "HTMLView",
            "description": "",
            "description_tooltip": null,
            "layout": "IPY_MODEL_de416f6127ca484aaef25ec142bf4749",
            "placeholder": "​",
            "style": "IPY_MODEL_06a7eea55cf548b3b12228ad4c978598",
            "value": " 5120/? [00:00&lt;00:00, 104063.91it/s]"
          }
        },
        "2341a6c92fc1470ea6a382c6cee95b5e": {
          "model_module": "@jupyter-widgets/base",
          "model_name": "LayoutModel",
          "model_module_version": "1.2.0",
          "state": {
            "_model_module": "@jupyter-widgets/base",
            "_model_module_version": "1.2.0",
            "_model_name": "LayoutModel",
            "_view_count": null,
            "_view_module": "@jupyter-widgets/base",
            "_view_module_version": "1.2.0",
            "_view_name": "LayoutView",
            "align_content": null,
            "align_items": null,
            "align_self": null,
            "border": null,
            "bottom": null,
            "display": null,
            "flex": null,
            "flex_flow": null,
            "grid_area": null,
            "grid_auto_columns": null,
            "grid_auto_flow": null,
            "grid_auto_rows": null,
            "grid_column": null,
            "grid_gap": null,
            "grid_row": null,
            "grid_template_areas": null,
            "grid_template_columns": null,
            "grid_template_rows": null,
            "height": null,
            "justify_content": null,
            "justify_items": null,
            "left": null,
            "margin": null,
            "max_height": null,
            "max_width": null,
            "min_height": null,
            "min_width": null,
            "object_fit": null,
            "object_position": null,
            "order": null,
            "overflow": null,
            "overflow_x": null,
            "overflow_y": null,
            "padding": null,
            "right": null,
            "top": null,
            "visibility": null,
            "width": null
          }
        },
        "d561e439138943318c9ca5d6ac402ba7": {
          "model_module": "@jupyter-widgets/base",
          "model_name": "LayoutModel",
          "model_module_version": "1.2.0",
          "state": {
            "_model_module": "@jupyter-widgets/base",
            "_model_module_version": "1.2.0",
            "_model_name": "LayoutModel",
            "_view_count": null,
            "_view_module": "@jupyter-widgets/base",
            "_view_module_version": "1.2.0",
            "_view_name": "LayoutView",
            "align_content": null,
            "align_items": null,
            "align_self": null,
            "border": null,
            "bottom": null,
            "display": null,
            "flex": null,
            "flex_flow": null,
            "grid_area": null,
            "grid_auto_columns": null,
            "grid_auto_flow": null,
            "grid_auto_rows": null,
            "grid_column": null,
            "grid_gap": null,
            "grid_row": null,
            "grid_template_areas": null,
            "grid_template_columns": null,
            "grid_template_rows": null,
            "height": null,
            "justify_content": null,
            "justify_items": null,
            "left": null,
            "margin": null,
            "max_height": null,
            "max_width": null,
            "min_height": null,
            "min_width": null,
            "object_fit": null,
            "object_position": null,
            "order": null,
            "overflow": null,
            "overflow_x": null,
            "overflow_y": null,
            "padding": null,
            "right": null,
            "top": null,
            "visibility": null,
            "width": null
          }
        },
        "1a26eed11dfe49ef92d4afef72c44b57": {
          "model_module": "@jupyter-widgets/controls",
          "model_name": "DescriptionStyleModel",
          "model_module_version": "1.5.0",
          "state": {
            "_model_module": "@jupyter-widgets/controls",
            "_model_module_version": "1.5.0",
            "_model_name": "DescriptionStyleModel",
            "_view_count": null,
            "_view_module": "@jupyter-widgets/base",
            "_view_module_version": "1.2.0",
            "_view_name": "StyleView",
            "description_width": ""
          }
        },
        "ce935a57c26f438caed54ee0cdb6847a": {
          "model_module": "@jupyter-widgets/base",
          "model_name": "LayoutModel",
          "model_module_version": "1.2.0",
          "state": {
            "_model_module": "@jupyter-widgets/base",
            "_model_module_version": "1.2.0",
            "_model_name": "LayoutModel",
            "_view_count": null,
            "_view_module": "@jupyter-widgets/base",
            "_view_module_version": "1.2.0",
            "_view_name": "LayoutView",
            "align_content": null,
            "align_items": null,
            "align_self": null,
            "border": null,
            "bottom": null,
            "display": null,
            "flex": null,
            "flex_flow": null,
            "grid_area": null,
            "grid_auto_columns": null,
            "grid_auto_flow": null,
            "grid_auto_rows": null,
            "grid_column": null,
            "grid_gap": null,
            "grid_row": null,
            "grid_template_areas": null,
            "grid_template_columns": null,
            "grid_template_rows": null,
            "height": null,
            "justify_content": null,
            "justify_items": null,
            "left": null,
            "margin": null,
            "max_height": null,
            "max_width": null,
            "min_height": null,
            "min_width": null,
            "object_fit": null,
            "object_position": null,
            "order": null,
            "overflow": null,
            "overflow_x": null,
            "overflow_y": null,
            "padding": null,
            "right": null,
            "top": null,
            "visibility": null,
            "width": null
          }
        },
        "88df0934c0a74f719ac50bde196e6f4e": {
          "model_module": "@jupyter-widgets/controls",
          "model_name": "ProgressStyleModel",
          "model_module_version": "1.5.0",
          "state": {
            "_model_module": "@jupyter-widgets/controls",
            "_model_module_version": "1.5.0",
            "_model_name": "ProgressStyleModel",
            "_view_count": null,
            "_view_module": "@jupyter-widgets/base",
            "_view_module_version": "1.2.0",
            "_view_name": "StyleView",
            "bar_color": null,
            "description_width": ""
          }
        },
        "de416f6127ca484aaef25ec142bf4749": {
          "model_module": "@jupyter-widgets/base",
          "model_name": "LayoutModel",
          "model_module_version": "1.2.0",
          "state": {
            "_model_module": "@jupyter-widgets/base",
            "_model_module_version": "1.2.0",
            "_model_name": "LayoutModel",
            "_view_count": null,
            "_view_module": "@jupyter-widgets/base",
            "_view_module_version": "1.2.0",
            "_view_name": "LayoutView",
            "align_content": null,
            "align_items": null,
            "align_self": null,
            "border": null,
            "bottom": null,
            "display": null,
            "flex": null,
            "flex_flow": null,
            "grid_area": null,
            "grid_auto_columns": null,
            "grid_auto_flow": null,
            "grid_auto_rows": null,
            "grid_column": null,
            "grid_gap": null,
            "grid_row": null,
            "grid_template_areas": null,
            "grid_template_columns": null,
            "grid_template_rows": null,
            "height": null,
            "justify_content": null,
            "justify_items": null,
            "left": null,
            "margin": null,
            "max_height": null,
            "max_width": null,
            "min_height": null,
            "min_width": null,
            "object_fit": null,
            "object_position": null,
            "order": null,
            "overflow": null,
            "overflow_x": null,
            "overflow_y": null,
            "padding": null,
            "right": null,
            "top": null,
            "visibility": null,
            "width": null
          }
        },
        "06a7eea55cf548b3b12228ad4c978598": {
          "model_module": "@jupyter-widgets/controls",
          "model_name": "DescriptionStyleModel",
          "model_module_version": "1.5.0",
          "state": {
            "_model_module": "@jupyter-widgets/controls",
            "_model_module_version": "1.5.0",
            "_model_name": "DescriptionStyleModel",
            "_view_count": null,
            "_view_module": "@jupyter-widgets/base",
            "_view_module_version": "1.2.0",
            "_view_name": "StyleView",
            "description_width": ""
          }
        }
      }
    }
  },
  "cells": [
    {
      "cell_type": "markdown",
      "metadata": {
        "id": "view-in-github",
        "colab_type": "text"
      },
      "source": [
        "<a href=\"https://colab.research.google.com/github/NicoleNisbett/IC2S2/blob/main/Deep_Learning_with_Pytorch_Tutorial_NDehmamy.ipynb\" target=\"_parent\"><img src=\"https://colab.research.google.com/assets/colab-badge.svg\" alt=\"Open In Colab\"/></a>"
      ]
    },
    {
      "cell_type": "markdown",
      "source": [
        "# Google Colab\n",
        "This environment is the Google colab, which uses [Jupyter Notebooks](https://jupyter.org/). \n",
        "There is one python instance (kernel) running in the background. \n",
        "The code is written in cells. \n",
        "Each can be run separately while sharing the same python kernel.  \n",
        "Use `Shift+Enter` to run each cell. "
      ],
      "metadata": {
        "id": "NYDu2E7nJFXw"
      }
    },
    {
      "cell_type": "markdown",
      "source": [
        "## Resources Used in this Tutorial \n",
        "\n",
        "__Elvis Saravia, Meta AI (prev. Facebook AI)__\n",
        "https://github.com/omarsar/pytorch_notebooks \n",
        "https://medium.com/dair-ai/a-simple-neural-network-from-scratch-with-pytorch-and-google-colab-c7f3830618e0 \n",
        "\n",
        "https://colab.research.google.com/drive/1ac0K9_aa46c77XEeYtaMAfSOfmH1Bl9L#scrollTo=4-o4w9vpPHZz\n",
        "\n",
        "\n",
        "__Prof. Soheil Feizi, Computer Science Department, University of Maryland__\n",
        "Foundations of Deep Learning\n",
        "https://colab.research.google.com/drive/1ElEaLiW6PGyXObYGAdULk8ArGd8nLU7p?usp=sharing#scrollTo=G9lMVNvWVKYq\n",
        "\n",
        "Course webpage: http://www.cs.umd.edu/class/fall2021/cmsc828W/ \n",
        "Video lectures: https://youtube.com/playlist?list=PLHgjs9ncvHi80UCSlSvQe-TK_uOyDv_Jf \n",
        "\n"
      ],
      "metadata": {
        "id": "49duyqNp5gLa"
      }
    },
    {
      "cell_type": "code",
      "execution_count": null,
      "metadata": {
        "id": "Gr3j4JzouhkS",
        "colab": {
          "base_uri": "https://localhost:8080/"
        },
        "outputId": "1bb05da6-322c-4725-a148-27f86cc0cb61"
      },
      "outputs": [
        {
          "output_type": "stream",
          "name": "stdout",
          "text": [
            "Populating the interactive namespace from numpy and matplotlib\n"
          ]
        }
      ],
      "source": [
        "%pylab inline\n",
        "\n",
        "# loads packages for numerical (numpy) and plotting (matplotlib) operations.  \n",
        "# to run: Shift+enter"
      ]
    },
    {
      "cell_type": "code",
      "source": [
        "t = linspace(0, 4*pi, 100)\n",
        "plot(t, sin(t))"
      ],
      "metadata": {
        "colab": {
          "base_uri": "https://localhost:8080/",
          "height": 283
        },
        "id": "j7ZejHG8IMQV",
        "outputId": "26a81942-d1d7-465e-c543-e5686eb1f588"
      },
      "execution_count": null,
      "outputs": [
        {
          "output_type": "execute_result",
          "data": {
            "text/plain": [
              "[<matplotlib.lines.Line2D at 0x7f7621793e90>]"
            ]
          },
          "metadata": {},
          "execution_count": 2
        },
        {
          "output_type": "display_data",
          "data": {
            "text/plain": [
              "<Figure size 432x288 with 1 Axes>"
            ],
            "image/png": "[encoded data removed]"
          },
          "metadata": {
            "needs_background": "light"
          }
        }
      ]
    },
    {
      "cell_type": "code",
      "source": [
        "\n",
        "type(t)"
      ],
      "metadata": {
        "colab": {
          "base_uri": "https://localhost:8080/"
        },
        "id": "ljFV_24-oB-O",
        "outputId": "d39d3100-08e4-4db9-ec3d-94cb66131416"
      },
      "execution_count": null,
      "outputs": [
        {
          "output_type": "execute_result",
          "data": {
            "text/plain": [
              "numpy.ndarray"
            ]
          },
          "metadata": {},
          "execution_count": 3
        }
      ]
    },
    {
      "cell_type": "code",
      "source": [
        "t.shape "
      ],
      "metadata": {
        "colab": {
          "base_uri": "https://localhost:8080/"
        },
        "id": "v3eRRbqiImqD",
        "outputId": "ca50005d-ba6d-44c6-fc2f-f1c5b607f8e3"
      },
      "execution_count": null,
      "outputs": [
        {
          "output_type": "execute_result",
          "data": {
            "text/plain": [
              "(100,)"
            ]
          },
          "metadata": {},
          "execution_count": 4
        }
      ]
    },
    {
      "cell_type": "code",
      "source": [
        "type(t)"
      ],
      "metadata": {
        "colab": {
          "base_uri": "https://localhost:8080/"
        },
        "id": "OLW-_ot_LAZ5",
        "outputId": "e71ae6ed-0d60-4dea-ecb1-5d04a4dde1b6"
      },
      "execution_count": null,
      "outputs": [
        {
          "output_type": "execute_result",
          "data": {
            "text/plain": [
              "numpy.ndarray"
            ]
          },
          "metadata": {},
          "execution_count": 4
        }
      ]
    },
    {
      "cell_type": "code",
      "source": [
        "# pytorch \n",
        "import torch\n",
        "\n",
        "## print out the pytorch version used\n",
        "torch.__version__"
      ],
      "metadata": {
        "colab": {
          "base_uri": "https://localhost:8080/",
          "height": 35
        },
        "id": "j5RmDL6MLJbR",
        "outputId": "bd997285-c5ea-40ce-e1dd-1423d9552abc"
      },
      "execution_count": null,
      "outputs": [
        {
          "output_type": "execute_result",
          "data": {
            "text/plain": [
              "'1.11.0+cu113'"
            ],
            "application/vnd.google.colaboratory.intrinsic+json": {
              "type": "string"
            }
          },
          "metadata": {},
          "execution_count": 3
        }
      ]
    },
    {
      "cell_type": "code",
      "metadata": {
        "id": "L7Boavtx22CS",
        "colab": {
          "base_uri": "https://localhost:8080/"
        },
        "outputId": "88e81d19-a64c-4e32-dc2a-ec56d8762129"
      },
      "source": [
        "## configuration to detect cuda or cpu\n",
        "device = torch.device(\"cuda:0\" if torch.cuda.is_available() else \"cpu\")\n",
        "print (device)"
      ],
      "execution_count": null,
      "outputs": [
        {
          "output_type": "stream",
          "name": "stdout",
          "text": [
            "cpu\n"
          ]
        }
      ]
    },
    {
      "cell_type": "code",
      "source": [
        ""
      ],
      "metadata": {
        "id": "ciKKQAsSLnqZ"
      },
      "execution_count": null,
      "outputs": []
    },
    {
      "cell_type": "markdown",
      "source": [
        "# Tensors in pytorch\n",
        "The basic object that pytorch uses for computation is `torch.tensor`, which is a __multidimensional array__. "
      ],
      "metadata": {
        "id": "2NElQG9bUVC3"
      }
    },
    {
      "cell_type": "code",
      "source": [
        "# list\n",
        "x = [1,2]\n",
        "# x = list([1,2])\n",
        "x"
      ],
      "metadata": {
        "id": "PCfmFwp30gpt",
        "colab": {
          "base_uri": "https://localhost:8080/"
        },
        "outputId": "7e042095-b23f-4f70-d474-12b0b588ccee"
      },
      "execution_count": null,
      "outputs": [
        {
          "output_type": "execute_result",
          "data": {
            "text/plain": [
              "[1, 2]"
            ]
          },
          "metadata": {},
          "execution_count": 7
        }
      ]
    },
    {
      "cell_type": "code",
      "source": [
        "x = torch.tensor([1,3])\n",
        "\n",
        "# to see the value of a variable, just type it in the last line of the cell\n",
        "x"
      ],
      "metadata": {
        "colab": {
          "base_uri": "https://localhost:8080/"
        },
        "id": "XBmBPrrDbqk4",
        "outputId": "62a5f98d-1890-49a7-a1a9-d660d28b4de5"
      },
      "execution_count": null,
      "outputs": [
        {
          "output_type": "execute_result",
          "data": {
            "text/plain": [
              "tensor([1, 3])"
            ]
          },
          "metadata": {},
          "execution_count": 8
        }
      ]
    },
    {
      "cell_type": "markdown",
      "source": [
        "# Linear Regression Example"
      ],
      "metadata": {
        "id": "vKKW2bpRZWqf"
      }
    },
    {
      "cell_type": "markdown",
      "source": [
        "## Explanatory Variable"
      ],
      "metadata": {
        "id": "_8Hj_-tsbt0z"
      }
    },
    {
      "cell_type": "code",
      "source": [
        "# number of data points\n",
        "n = 200\n",
        "\n",
        "# dimensionality of the data\n",
        "d = 1\n",
        "\n",
        "# random standard normal distributed numbers \n",
        "x = torch.randn(n,d) \n",
        "\n",
        "# print the first 5 values\n",
        "x[:5]"
      ],
      "metadata": {
        "colab": {
          "base_uri": "https://localhost:8080/"
        },
        "id": "lnnI3QTBa2to",
        "outputId": "fea85006-61f8-4487-ae9b-750808d05245"
      },
      "execution_count": null,
      "outputs": [
        {
          "output_type": "execute_result",
          "data": {
            "text/plain": [
              "tensor([[ 0.4477],\n",
              "        [ 3.1240],\n",
              "        [ 0.2638],\n",
              "        [-1.3532],\n",
              "        [ 0.8446]])"
            ]
          },
          "metadata": {},
          "execution_count": 9
        }
      ]
    },
    {
      "cell_type": "code",
      "source": [
        "x.shape"
      ],
      "metadata": {
        "id": "2moAnzIz1B6l",
        "colab": {
          "base_uri": "https://localhost:8080/"
        },
        "outputId": "b5348d73-6c6d-488b-c734-b70a867b4035"
      },
      "execution_count": null,
      "outputs": [
        {
          "output_type": "execute_result",
          "data": {
            "text/plain": [
              "torch.Size([200, 1])"
            ]
          },
          "metadata": {},
          "execution_count": 10
        }
      ]
    },
    {
      "cell_type": "markdown",
      "source": [
        "## Dependent variable "
      ],
      "metadata": {
        "id": "YycLHynObnRO"
      }
    },
    {
      "cell_type": "code",
      "source": [
        "w, b = 3, 1\n",
        "\n",
        "y = w*x + b \n",
        "y.shape"
      ],
      "metadata": {
        "id": "2_By5dAXbd6h",
        "colab": {
          "base_uri": "https://localhost:8080/"
        },
        "outputId": "43cd73f7-5d4c-44e0-85f4-b383f0545163"
      },
      "execution_count": null,
      "outputs": [
        {
          "output_type": "execute_result",
          "data": {
            "text/plain": [
              "torch.Size([200, 1])"
            ]
          },
          "metadata": {},
          "execution_count": 16
        }
      ]
    },
    {
      "cell_type": "markdown",
      "metadata": {
        "id": "0a2C_nneO_wp"
      },
      "source": [
        "# The Neural Network\n",
        "\n",
        "![alt text](https://drive.google.com/uc?export=view&id=1Lpi4VPBfAV3JkOLopcsGK4L8dyxmPF1b)\n"
      ]
    },
    {
      "cell_type": "markdown",
      "source": [
        "# Building a Pytorch Model\n",
        "Linear regression can be implemented using the simplest neural network (NN) module in pytorch. \n",
        "Recall that a fully-connected NN performs \n",
        "\n",
        "$\\tilde{y} = \\sigma(Wx+b)$\n",
        "\n",
        "The pytorch module `torch.nn` contains all its NN submodules. \n",
        "The fully-connected NN is called `torch.nn.Linear`. \n",
        "\n",
        "To do linear regression, we set the activation function $\\sigma(\\cdot)$ to be linear, meaning $\\sigma(x)=x$. "
      ],
      "metadata": {
        "id": "Q0CcR-P7cgvD"
      }
    },
    {
      "cell_type": "code",
      "source": [
        "# make a fully-connected neural network layer\n",
        "fc = torch.nn.Linear(in_features=d, out_features= d) "
      ],
      "metadata": {
        "id": "YMv5Pig5byXf"
      },
      "execution_count": null,
      "outputs": []
    },
    {
      "cell_type": "code",
      "source": [
        "\n",
        "fc"
      ],
      "metadata": {
        "colab": {
          "base_uri": "https://localhost:8080/"
        },
        "id": "k-lpGyakUbcE",
        "outputId": "d07a3c26-8100-48b5-eeb3-f5645fc60e5a"
      },
      "execution_count": null,
      "outputs": [
        {
          "output_type": "execute_result",
          "data": {
            "text/plain": [
              "Linear(in_features=1, out_features=1, bias=True)"
            ]
          },
          "metadata": {},
          "execution_count": 18
        }
      ]
    },
    {
      "cell_type": "code",
      "source": [
        "type(fc(x))"
      ],
      "metadata": {
        "colab": {
          "base_uri": "https://localhost:8080/"
        },
        "id": "p2v6fCZYUobS",
        "outputId": "35698225-49a0-4285-8a94-5fcce9ffbf5f"
      },
      "execution_count": null,
      "outputs": [
        {
          "output_type": "execute_result",
          "data": {
            "text/plain": [
              "torch.Tensor"
            ]
          },
          "metadata": {},
          "execution_count": 20
        }
      ]
    },
    {
      "cell_type": "code",
      "source": [
        ""
      ],
      "metadata": {
        "id": "xmg5K7QnUs8b"
      },
      "execution_count": null,
      "outputs": []
    },
    {
      "cell_type": "code",
      "source": [
        "# to pass data through the layer call the layer with the data as input\n",
        "fc(x)[:3]"
      ],
      "metadata": {
        "colab": {
          "base_uri": "https://localhost:8080/"
        },
        "id": "B967YSGoeYBw",
        "outputId": "84baa09c-098f-4732-ea31-03a0772f489c"
      },
      "execution_count": null,
      "outputs": [
        {
          "output_type": "execute_result",
          "data": {
            "text/plain": [
              "tensor([[-1.1243],\n",
              "        [-2.5649],\n",
              "        [-1.0253]], grad_fn=<SliceBackward0>)"
            ]
          },
          "metadata": {},
          "execution_count": 21
        }
      ]
    },
    {
      "cell_type": "code",
      "source": [
        "\n",
        "for i in range(3):\n",
        "  print(i)"
      ],
      "metadata": {
        "colab": {
          "base_uri": "https://localhost:8080/"
        },
        "id": "QRaJsXG4VvBk",
        "outputId": "6c323b56-1446-4e25-9043-c43a6068af0a"
      },
      "execution_count": null,
      "outputs": [
        {
          "output_type": "stream",
          "name": "stdout",
          "text": [
            "0\n",
            "1\n",
            "2\n"
          ]
        }
      ]
    },
    {
      "cell_type": "code",
      "source": [
        "list(range(3))"
      ],
      "metadata": {
        "colab": {
          "base_uri": "https://localhost:8080/"
        },
        "id": "0QE-lzOaV4Yj",
        "outputId": "1c8abe8f-3ec5-48a5-ef96-4a25dbd9adf3"
      },
      "execution_count": null,
      "outputs": [
        {
          "output_type": "execute_result",
          "data": {
            "text/plain": [
              "[0, 1, 2]"
            ]
          },
          "metadata": {},
          "execution_count": 28
        }
      ]
    },
    {
      "cell_type": "code",
      "source": [
        "fc.parameters()"
      ],
      "metadata": {
        "colab": {
          "base_uri": "https://localhost:8080/"
        },
        "id": "xBPHHaj4UmP8",
        "outputId": "5d0ea968-865d-48bb-d231-61bdcd61cf47"
      },
      "execution_count": null,
      "outputs": [
        {
          "output_type": "execute_result",
          "data": {
            "text/plain": [
              "<generator object Module.parameters at 0x7f7567f09e50>"
            ]
          },
          "metadata": {},
          "execution_count": 24
        }
      ]
    },
    {
      "cell_type": "code",
      "source": [
        "list(fc.parameters())"
      ],
      "metadata": {
        "colab": {
          "base_uri": "https://localhost:8080/"
        },
        "id": "-ceTGjpk3ppV",
        "outputId": "8a1bc0d0-532e-4ec9-e9dd-539f5620b56a"
      },
      "execution_count": null,
      "outputs": [
        {
          "output_type": "execute_result",
          "data": {
            "text/plain": [
              "[Parameter containing:\n",
              " tensor([[0.0715]], requires_grad=True), Parameter containing:\n",
              " tensor([0.8311], requires_grad=True)]"
            ]
          },
          "metadata": {},
          "execution_count": 14
        }
      ]
    },
    {
      "cell_type": "code",
      "source": [
        "\n",
        "torch.norm(fc(x) - y)**2 / (n)"
      ],
      "metadata": {
        "colab": {
          "base_uri": "https://localhost:8080/"
        },
        "id": "xi16rtgw4EZ2",
        "outputId": "f67a6aff-e9bb-44d5-905f-21678b1e9023"
      },
      "execution_count": null,
      "outputs": [
        {
          "output_type": "execute_result",
          "data": {
            "text/plain": [
              "tensor(17.2610, grad_fn=<DivBackward0>)"
            ]
          },
          "metadata": {},
          "execution_count": 22
        }
      ]
    },
    {
      "cell_type": "markdown",
      "source": [
        "# Calculating the Error\n",
        "Pytorch has implementations of most commonly used loss functions in the `torch.nn` module, including \n",
        "the mean square error (MSE) "
      ],
      "metadata": {
        "id": "C4Ht_2MxgcJi"
      }
    },
    {
      "cell_type": "code",
      "source": [
        "# create an instance of the loss function \n",
        "mse = torch.nn.MSELoss()"
      ],
      "metadata": {
        "id": "BR-t0gHBgbtb"
      },
      "execution_count": null,
      "outputs": []
    },
    {
      "cell_type": "code",
      "source": [
        "# Evaluate the loss between the predicted values and actual values of the dependent variable\n",
        "y_pred = fc(x)\n",
        "\n",
        "\n",
        "loss = mse(y_pred, y)\n",
        "\n",
        "# grad_fn: related to Automatic Differentiation\n",
        "loss\n"
      ],
      "metadata": {
        "colab": {
          "base_uri": "https://localhost:8080/"
        },
        "id": "Ads6SGPkhCov",
        "outputId": "4de6dd7c-fe83-40b9-a831-95cb6c8181ea"
      },
      "execution_count": null,
      "outputs": [
        {
          "output_type": "execute_result",
          "data": {
            "text/plain": [
              "tensor(17.2610, grad_fn=<MseLossBackward0>)"
            ]
          },
          "metadata": {},
          "execution_count": 31
        }
      ]
    },
    {
      "cell_type": "markdown",
      "source": [
        "## Minimizing the Loss\n",
        "To find the parameters $w,b$ we can minimize the MSE loss \n",
        "$$L={1\\over n} \\|y-y_{pred}\\|^2$$\n",
        "Since this is a convex loss, performing gradient descent for $w,b$ is guaranteed to approach optimal values. \n",
        "\n",
        "## Gradient Descent or Error Backpropagation \n",
        "GD at time step $t$ follows the update rule\n",
        "\n",
        "$$w_t = w_{t-1} - \\epsilon {\\partial L \\over \\partial w_{t-1}} $$\n",
        "where $\\epsilon$ is the \"learning rate\". \n",
        "The following is how gradient descent is done in pytorch. \n",
        "We will explain the steps after this. "
      ],
      "metadata": {
        "id": "ZFwSE0VHhbRO"
      }
    },
    {
      "cell_type": "markdown",
      "source": [
        "## Optimizer\n",
        "The optimizer runs the function to calculate gradients with respect to all parameters of the machine learning model. \n",
        "In the case of Linear regression, the \"model\" is the fully-connected layer `fc`. "
      ],
      "metadata": {
        "id": "SH9ljq4NjdZG"
      }
    },
    {
      "cell_type": "code",
      "metadata": {
        "id": "ohPQKRd1jMxE"
      },
      "source": [
        "## optimizer algorithm\n",
        "# One of the simplest optimizers is Stochastic Gradient Descent, which approximates gradients using minibatches of data.   \n",
        "optimizer = torch.optim.SGD(fc.parameters(), # you need to pass the \"model\" parameters to the optimizer, so it knows which params need gradients \n",
        "                            lr=0.01 # the learning rate\n",
        "                            )"
      ],
      "execution_count": null,
      "outputs": []
    },
    {
      "cell_type": "markdown",
      "metadata": {
        "id": "Ckt_ylv7jMxH"
      },
      "source": [
        "## Training the Neural Network Model\n",
        "We have all the components we need to train our model. Below is the code used to train our model. \n",
        "\n",
        "In simple terms, we train the model by feeding it the input and output pairs for a couple of rounds (i.e., `epoch`). After a series of forward and backward steps, the model somewhat learns the relationship between x and y values. This is notable by the decrease in the computed `loss`. For a more detailed explanation of this code check out this [tutorial](https://medium.com/dair-ai/a-simple-neural-network-from-scratch-with-pytorch-and-google-colab-c7f3830618e0). "
      ]
    },
    {
      "cell_type": "code",
      "source": [
        "w_1, b_1 = list(fc.parameters())"
      ],
      "metadata": {
        "id": "WdA3z_1z6UR0"
      },
      "execution_count": null,
      "outputs": []
    },
    {
      "cell_type": "code",
      "source": [
        "w_1 "
      ],
      "metadata": {
        "colab": {
          "base_uri": "https://localhost:8080/"
        },
        "id": "ksGuKUGJsy6s",
        "outputId": "90765305-6ec7-4296-eabf-587e2cf8448d"
      },
      "execution_count": null,
      "outputs": [
        {
          "output_type": "execute_result",
          "data": {
            "text/plain": [
              "Parameter containing:\n",
              "tensor([[-0.5383]], requires_grad=True)"
            ]
          },
          "metadata": {},
          "execution_count": 34
        }
      ]
    },
    {
      "cell_type": "code",
      "source": [
        "\n",
        "b_1"
      ],
      "metadata": {
        "colab": {
          "base_uri": "https://localhost:8080/"
        },
        "id": "AbDlEYLSs06H",
        "outputId": "4a8965b7-4954-49d8-ab47-09621451e2ca"
      },
      "execution_count": null,
      "outputs": [
        {
          "output_type": "execute_result",
          "data": {
            "text/plain": [
              "Parameter containing:\n",
              "tensor([-0.8834], requires_grad=True)"
            ]
          },
          "metadata": {},
          "execution_count": 35
        }
      ]
    },
    {
      "cell_type": "code",
      "source": [
        "w_1.grad"
      ],
      "metadata": {
        "id": "EvP2a0LY6czv"
      },
      "execution_count": null,
      "outputs": []
    },
    {
      "cell_type": "code",
      "source": [
        "w_1, b_1 = list(fc.parameters())\n",
        "\n",
        "# Training via gradient descent\n",
        "epochs = 100\n",
        "for i in range(epochs):\n",
        "    ## forward\n",
        "    # pass x through the fc layer\n",
        "    y_pred = fc(x)\n",
        "    # calculate loss \n",
        "    loss = mse(y_pred, y)\n",
        "\n",
        "    # reset the gradients calculated by the optimizer\n",
        "    optimizer.zero_grad()\n",
        "\n",
        "    ## backward + update model params \n",
        "    # calculating the gradients is done by calling the \"backward\" method (named so because of \"error backpropagation\")\n",
        "    loss.backward()\n",
        "    # to perform one GD step `w[t] = w[t-1] - eps*grad(L,w)` call:    \n",
        "    optimizer.step()\n",
        "    \n",
        "    print('Epoch: %d | Loss: %.4f | w: %.3f, b: %.3f' %(i, loss.detach().item(), w_1.detach().item(), b_1.detach().item()  ))\n",
        "    # (read about string formatting in python) "
      ],
      "metadata": {
        "colab": {
          "base_uri": "https://localhost:8080/"
        },
        "id": "-Spn80VxlmG-",
        "outputId": "64f7e5cf-bec8-4d9e-9f56-aa32decb5aa6"
      },
      "execution_count": null,
      "outputs": [
        {
          "output_type": "stream",
          "name": "stdout",
          "text": [
            "Epoch: 0 | Loss: 0.2247 | w: 2.616, b: 0.769\n",
            "Epoch: 1 | Loss: 0.2152 | w: 2.625, b: 0.773\n",
            "Epoch: 2 | Loss: 0.2060 | w: 2.633, b: 0.778\n",
            "Epoch: 3 | Loss: 0.1973 | w: 2.641, b: 0.783\n",
            "Epoch: 4 | Loss: 0.1889 | w: 2.649, b: 0.787\n",
            "Epoch: 5 | Loss: 0.1809 | w: 2.656, b: 0.792\n",
            "Epoch: 6 | Loss: 0.1732 | w: 2.664, b: 0.796\n",
            "Epoch: 7 | Loss: 0.1659 | w: 2.671, b: 0.800\n",
            "Epoch: 8 | Loss: 0.1588 | w: 2.678, b: 0.804\n",
            "Epoch: 9 | Loss: 0.1521 | w: 2.685, b: 0.808\n",
            "Epoch: 10 | Loss: 0.1456 | w: 2.692, b: 0.812\n",
            "Epoch: 11 | Loss: 0.1395 | w: 2.699, b: 0.816\n",
            "Epoch: 12 | Loss: 0.1335 | w: 2.705, b: 0.820\n",
            "Epoch: 13 | Loss: 0.1279 | w: 2.712, b: 0.823\n",
            "Epoch: 14 | Loss: 0.1225 | w: 2.718, b: 0.827\n",
            "Epoch: 15 | Loss: 0.1173 | w: 2.724, b: 0.831\n",
            "Epoch: 16 | Loss: 0.1123 | w: 2.730, b: 0.834\n",
            "Epoch: 17 | Loss: 0.1075 | w: 2.736, b: 0.837\n",
            "Epoch: 18 | Loss: 0.1030 | w: 2.742, b: 0.841\n",
            "Epoch: 19 | Loss: 0.0986 | w: 2.747, b: 0.844\n",
            "Epoch: 20 | Loss: 0.0944 | w: 2.753, b: 0.847\n",
            "Epoch: 21 | Loss: 0.0904 | w: 2.758, b: 0.850\n",
            "Epoch: 22 | Loss: 0.0866 | w: 2.764, b: 0.853\n",
            "Epoch: 23 | Loss: 0.0829 | w: 2.769, b: 0.856\n",
            "Epoch: 24 | Loss: 0.0794 | w: 2.774, b: 0.859\n",
            "Epoch: 25 | Loss: 0.0760 | w: 2.779, b: 0.862\n",
            "Epoch: 26 | Loss: 0.0728 | w: 2.783, b: 0.865\n",
            "Epoch: 27 | Loss: 0.0697 | w: 2.788, b: 0.868\n",
            "Epoch: 28 | Loss: 0.0668 | w: 2.793, b: 0.871\n",
            "Epoch: 29 | Loss: 0.0639 | w: 2.797, b: 0.873\n",
            "Epoch: 30 | Loss: 0.0612 | w: 2.802, b: 0.876\n",
            "Epoch: 31 | Loss: 0.0586 | w: 2.806, b: 0.878\n",
            "Epoch: 32 | Loss: 0.0561 | w: 2.810, b: 0.881\n",
            "Epoch: 33 | Loss: 0.0538 | w: 2.814, b: 0.883\n",
            "Epoch: 34 | Loss: 0.0515 | w: 2.818, b: 0.886\n",
            "Epoch: 35 | Loss: 0.0493 | w: 2.822, b: 0.888\n",
            "Epoch: 36 | Loss: 0.0472 | w: 2.826, b: 0.890\n",
            "Epoch: 37 | Loss: 0.0452 | w: 2.830, b: 0.893\n",
            "Epoch: 38 | Loss: 0.0433 | w: 2.834, b: 0.895\n",
            "Epoch: 39 | Loss: 0.0415 | w: 2.837, b: 0.897\n",
            "Epoch: 40 | Loss: 0.0397 | w: 2.841, b: 0.899\n",
            "Epoch: 41 | Loss: 0.0380 | w: 2.844, b: 0.901\n",
            "Epoch: 42 | Loss: 0.0364 | w: 2.848, b: 0.903\n",
            "Epoch: 43 | Loss: 0.0349 | w: 2.851, b: 0.905\n",
            "Epoch: 44 | Loss: 0.0334 | w: 2.854, b: 0.907\n",
            "Epoch: 45 | Loss: 0.0320 | w: 2.857, b: 0.909\n",
            "Epoch: 46 | Loss: 0.0306 | w: 2.861, b: 0.911\n",
            "Epoch: 47 | Loss: 0.0293 | w: 2.864, b: 0.913\n",
            "Epoch: 48 | Loss: 0.0281 | w: 2.867, b: 0.914\n",
            "Epoch: 49 | Loss: 0.0269 | w: 2.869, b: 0.916\n",
            "Epoch: 50 | Loss: 0.0257 | w: 2.872, b: 0.918\n",
            "Epoch: 51 | Loss: 0.0247 | w: 2.875, b: 0.920\n",
            "Epoch: 52 | Loss: 0.0236 | w: 2.878, b: 0.921\n",
            "Epoch: 53 | Loss: 0.0226 | w: 2.880, b: 0.923\n",
            "Epoch: 54 | Loss: 0.0217 | w: 2.883, b: 0.924\n",
            "Epoch: 55 | Loss: 0.0207 | w: 2.886, b: 0.926\n",
            "Epoch: 56 | Loss: 0.0199 | w: 2.888, b: 0.927\n",
            "Epoch: 57 | Loss: 0.0190 | w: 2.891, b: 0.929\n",
            "Epoch: 58 | Loss: 0.0182 | w: 2.893, b: 0.930\n",
            "Epoch: 59 | Loss: 0.0174 | w: 2.895, b: 0.932\n",
            "Epoch: 60 | Loss: 0.0167 | w: 2.898, b: 0.933\n",
            "Epoch: 61 | Loss: 0.0160 | w: 2.900, b: 0.935\n",
            "Epoch: 62 | Loss: 0.0153 | w: 2.902, b: 0.936\n",
            "Epoch: 63 | Loss: 0.0147 | w: 2.904, b: 0.937\n",
            "Epoch: 64 | Loss: 0.0140 | w: 2.906, b: 0.939\n",
            "Epoch: 65 | Loss: 0.0134 | w: 2.908, b: 0.940\n",
            "Epoch: 66 | Loss: 0.0129 | w: 2.910, b: 0.941\n",
            "Epoch: 67 | Loss: 0.0123 | w: 2.912, b: 0.942\n",
            "Epoch: 68 | Loss: 0.0118 | w: 2.914, b: 0.943\n",
            "Epoch: 69 | Loss: 0.0113 | w: 2.916, b: 0.945\n",
            "Epoch: 70 | Loss: 0.0108 | w: 2.918, b: 0.946\n",
            "Epoch: 71 | Loss: 0.0104 | w: 2.920, b: 0.947\n",
            "Epoch: 72 | Loss: 0.0099 | w: 2.921, b: 0.948\n",
            "Epoch: 73 | Loss: 0.0095 | w: 2.923, b: 0.949\n",
            "Epoch: 74 | Loss: 0.0091 | w: 2.925, b: 0.950\n",
            "Epoch: 75 | Loss: 0.0087 | w: 2.926, b: 0.951\n",
            "Epoch: 76 | Loss: 0.0084 | w: 2.928, b: 0.952\n",
            "Epoch: 77 | Loss: 0.0080 | w: 2.930, b: 0.953\n",
            "Epoch: 78 | Loss: 0.0077 | w: 2.931, b: 0.954\n",
            "Epoch: 79 | Loss: 0.0073 | w: 2.933, b: 0.955\n",
            "Epoch: 80 | Loss: 0.0070 | w: 2.934, b: 0.956\n",
            "Epoch: 81 | Loss: 0.0067 | w: 2.935, b: 0.957\n",
            "Epoch: 82 | Loss: 0.0064 | w: 2.937, b: 0.958\n",
            "Epoch: 83 | Loss: 0.0062 | w: 2.938, b: 0.959\n",
            "Epoch: 84 | Loss: 0.0059 | w: 2.940, b: 0.959\n",
            "Epoch: 85 | Loss: 0.0057 | w: 2.941, b: 0.960\n",
            "Epoch: 86 | Loss: 0.0054 | w: 2.942, b: 0.961\n",
            "Epoch: 87 | Loss: 0.0052 | w: 2.943, b: 0.962\n",
            "Epoch: 88 | Loss: 0.0050 | w: 2.945, b: 0.963\n",
            "Epoch: 89 | Loss: 0.0048 | w: 2.946, b: 0.963\n",
            "Epoch: 90 | Loss: 0.0046 | w: 2.947, b: 0.964\n",
            "Epoch: 91 | Loss: 0.0044 | w: 2.948, b: 0.965\n",
            "Epoch: 92 | Loss: 0.0042 | w: 2.949, b: 0.966\n",
            "Epoch: 93 | Loss: 0.0040 | w: 2.950, b: 0.966\n",
            "Epoch: 94 | Loss: 0.0038 | w: 2.952, b: 0.967\n",
            "Epoch: 95 | Loss: 0.0037 | w: 2.953, b: 0.968\n",
            "Epoch: 96 | Loss: 0.0035 | w: 2.954, b: 0.968\n",
            "Epoch: 97 | Loss: 0.0034 | w: 2.955, b: 0.969\n",
            "Epoch: 98 | Loss: 0.0032 | w: 2.956, b: 0.970\n",
            "Epoch: 99 | Loss: 0.0031 | w: 2.957, b: 0.970\n"
          ]
        }
      ]
    },
    {
      "cell_type": "markdown",
      "source": [
        "## Automatic stopping criteria\n",
        "if the loss doesn't change more than a given threshold, stop training"
      ],
      "metadata": {
        "id": "xoQBVcuKt5F5"
      }
    },
    {
      "cell_type": "code",
      "source": [
        "history = [100]\n",
        "threshold = 1e-3\n",
        "\n",
        "w_1, b_1 = list(fc.parameters())\n",
        "\n",
        "epochs = 1000\n",
        "for i in range(epochs):\n",
        "    y_pred = fc(x)\n",
        "    loss = mse(y_pred, y)\n",
        "    optimizer.zero_grad()\n",
        "    loss.backward()\n",
        "    optimizer.step()\n",
        "    l = loss.detach().item()\n",
        "    history += [l]\n",
        "    if np.abs(history[-2]-history[-1]) < threshold:\n",
        "      break\n",
        "\n",
        "    #print('Epoch: %d | Loss: %.4f | w: %.3f, b: %.3f' %(i, loss.detach().item(), w_1.detach().item(), b_1.detach().item()  ))\n",
        "    # (read about string formatting in python) \n"
      ],
      "metadata": {
        "id": "TF1uI7sA6cQ-"
      },
      "execution_count": null,
      "outputs": []
    },
    {
      "cell_type": "code",
      "source": [
        "plot(history)\n",
        "ylim(0,10)\n",
        "ylabel('loss')\n",
        "xlabel('epochs')\n",
        "xscale('log')\n",
        "i"
      ],
      "metadata": {
        "colab": {
          "base_uri": "https://localhost:8080/",
          "height": 305
        },
        "id": "3pMhPXeW9P7m",
        "outputId": "e31ce571-7573-4ee0-9f24-f64fc52f860c"
      },
      "execution_count": null,
      "outputs": [
        {
          "output_type": "execute_result",
          "data": {
            "text/plain": [
              "134"
            ]
          },
          "metadata": {},
          "execution_count": 43
        },
        {
          "output_type": "display_data",
          "data": {
            "text/plain": [
              "<Figure size 432x288 with 1 Axes>"
            ],
            "image/png": "[encoded data removed]"
          },
          "metadata": {
            "needs_background": "light"
          }
        }
      ]
    },
    {
      "cell_type": "code",
      "source": [
        "list(fc.parameters())"
      ],
      "metadata": {
        "colab": {
          "base_uri": "https://localhost:8080/"
        },
        "id": "wcLCrzClpZEx",
        "outputId": "64289668-ac34-48c9-f829-ea38dff17fd8"
      },
      "execution_count": null,
      "outputs": [
        {
          "output_type": "execute_result",
          "data": {
            "text/plain": [
              "[Parameter containing:\n",
              " tensor([[2.8862]], requires_grad=True), Parameter containing:\n",
              " tensor([0.9154], requires_grad=True)]"
            ]
          },
          "metadata": {},
          "execution_count": 44
        }
      ]
    },
    {
      "cell_type": "code",
      "source": [
        "optimizer.zero_grad()\n",
        "w_1, w_1.grad"
      ],
      "metadata": {
        "colab": {
          "base_uri": "https://localhost:8080/"
        },
        "id": "ikIMM9dH6yD_",
        "outputId": "1afbccb0-5ef9-4410-e28f-3633a5eb8b89"
      },
      "execution_count": null,
      "outputs": [
        {
          "output_type": "execute_result",
          "data": {
            "text/plain": [
              "(Parameter containing:\n",
              " tensor([[2.5097]], requires_grad=True), tensor([[0.]]))"
            ]
          },
          "metadata": {},
          "execution_count": 42
        }
      ]
    },
    {
      "cell_type": "markdown",
      "source": [
        "As we see, the parameters of the trained layer approach the ground truth values of $w,b$. "
      ],
      "metadata": {
        "id": "j136EIyqqyDs"
      }
    },
    {
      "cell_type": "markdown",
      "source": [
        "# Building the Model by Hand \n",
        "In many cases you may need customized layers or models. \n",
        "Pytorch allows you to build such models using the `torch.nn.Module` module. "
      ],
      "metadata": {
        "id": "h3Y6205oq_8u"
      }
    },
    {
      "cell_type": "code",
      "source": [
        "# For brevity, use the alias `nn` for \n",
        "# pytorch Neural Networks package \n",
        "import torch.nn as nn "
      ],
      "metadata": {
        "id": "40qTIuzRrlgn"
      },
      "execution_count": null,
      "outputs": []
    },
    {
      "cell_type": "code",
      "source": [
        "def fun(a):\n",
        "  return a**2\n",
        "\n",
        "fun( 3)"
      ],
      "metadata": {
        "colab": {
          "base_uri": "https://localhost:8080/"
        },
        "id": "sk2ZZec2BF0i",
        "outputId": "e13adb4d-e43c-48a1-d080-04cd518d57d3"
      },
      "execution_count": null,
      "outputs": [
        {
          "output_type": "execute_result",
          "data": {
            "text/plain": [
              "9"
            ]
          },
          "metadata": {},
          "execution_count": 45
        }
      ]
    },
    {
      "cell_type": "code",
      "source": [
        "class tree:\n",
        "  center = 4\n",
        "  def __init__(self, # refers to the object itself\n",
        "               ):\n",
        "    self.left = None \n",
        "    self.right = None \n",
        "\n",
        "  def str(self):\n",
        "    print( self.left, self.right)\n",
        "    \n"
      ],
      "metadata": {
        "id": "ZonWCOG7BNdC"
      },
      "execution_count": null,
      "outputs": []
    },
    {
      "cell_type": "code",
      "source": [
        "t = tree()\n",
        "t.left = 2\n",
        "t.right = 5\n",
        "\n",
        "t.str()"
      ],
      "metadata": {
        "colab": {
          "base_uri": "https://localhost:8080/"
        },
        "id": "1JDaMfdvbwPh",
        "outputId": "650c2060-1c4c-41e2-cc10-8db3f917ee26"
      },
      "execution_count": null,
      "outputs": [
        {
          "output_type": "stream",
          "name": "stdout",
          "text": [
            "2 5\n"
          ]
        }
      ]
    },
    {
      "cell_type": "code",
      "source": [
        "class birch(tree):\n",
        "  def __init__(self):\n",
        "    super(birch, self).__init__()\n",
        "\n",
        "  def leaf(self):\n",
        "    print('hi')"
      ],
      "metadata": {
        "id": "kzxaiRyEDJiy"
      },
      "execution_count": null,
      "outputs": []
    },
    {
      "cell_type": "code",
      "source": [
        "b1 = birch()"
      ],
      "metadata": {
        "id": "3S-khGu5B7m9"
      },
      "execution_count": null,
      "outputs": []
    },
    {
      "cell_type": "code",
      "source": [
        "b1.left"
      ],
      "metadata": {
        "id": "j9JhlRqFccaK"
      },
      "execution_count": null,
      "outputs": []
    },
    {
      "cell_type": "code",
      "source": [
        "b1.str()"
      ],
      "metadata": {
        "colab": {
          "base_uri": "https://localhost:8080/"
        },
        "id": "3xss_HBLDVcn",
        "outputId": "8b3936e5-4cd2-4fe3-a8c2-d7c2f5bc5e13"
      },
      "execution_count": null,
      "outputs": [
        {
          "output_type": "stream",
          "name": "stdout",
          "text": [
            "None None\n"
          ]
        }
      ]
    },
    {
      "cell_type": "code",
      "source": [
        "t1 = tree()\n",
        "t1.left = 10\n",
        "t1.right = 2\n",
        "\n",
        "t1.left, t1.right"
      ],
      "metadata": {
        "colab": {
          "base_uri": "https://localhost:8080/"
        },
        "id": "AY6wIkP7BxOT",
        "outputId": "e2fea52b-d3d3-4f80-ce32-b03e8f07521e"
      },
      "execution_count": null,
      "outputs": [
        {
          "output_type": "execute_result",
          "data": {
            "text/plain": [
              "(10, 2)"
            ]
          },
          "metadata": {},
          "execution_count": 69
        }
      ]
    },
    {
      "cell_type": "code",
      "source": [
        "\n",
        "t1.str()"
      ],
      "metadata": {
        "colab": {
          "base_uri": "https://localhost:8080/"
        },
        "id": "tlpQlIUrC3pL",
        "outputId": "1ef9a70e-27e0-4205-c884-1fb804093f35"
      },
      "execution_count": null,
      "outputs": [
        {
          "output_type": "stream",
          "name": "stdout",
          "text": [
            "10 2\n"
          ]
        }
      ]
    },
    {
      "cell_type": "code",
      "source": [
        "t2 = tree()\n",
        "t2.left = 5\n",
        "t2.right = 3\n",
        "\n",
        "t1.left, t2.left"
      ],
      "metadata": {
        "colab": {
          "base_uri": "https://localhost:8080/"
        },
        "id": "dR9FLy1wB84X",
        "outputId": "0abbce6b-1e07-4349-8bf9-0bb944aee519"
      },
      "execution_count": null,
      "outputs": [
        {
          "output_type": "execute_result",
          "data": {
            "text/plain": [
              "(10, 5)"
            ]
          },
          "metadata": {},
          "execution_count": 62
        }
      ]
    },
    {
      "cell_type": "code",
      "source": [
        "t1.center"
      ],
      "metadata": {
        "colab": {
          "base_uri": "https://localhost:8080/"
        },
        "id": "bNcrqNG_CZrh",
        "outputId": "89cc022b-3b77-4dea-a52c-5665f48fe86b"
      },
      "execution_count": null,
      "outputs": [
        {
          "output_type": "execute_result",
          "data": {
            "text/plain": [
              "4"
            ]
          },
          "metadata": {},
          "execution_count": 65
        }
      ]
    },
    {
      "cell_type": "code",
      "source": [
        "t2.center = 20"
      ],
      "metadata": {
        "id": "UosnOw0wCcDX"
      },
      "execution_count": null,
      "outputs": []
    },
    {
      "cell_type": "code",
      "source": [
        "t1.center "
      ],
      "metadata": {
        "colab": {
          "base_uri": "https://localhost:8080/"
        },
        "id": "Ytrmz0S9B8lO",
        "outputId": "bec0308e-9b5c-41ae-d003-2bbf1d1eec5a"
      },
      "execution_count": null,
      "outputs": [
        {
          "output_type": "execute_result",
          "data": {
            "text/plain": [
              "4"
            ]
          },
          "metadata": {},
          "execution_count": 67
        }
      ]
    },
    {
      "cell_type": "code",
      "source": [
        "# build a pytorch linear layer from scratch\n",
        "# (simplified from pytorch source)\n",
        "\n",
        "class SimpleLinear(nn.Module):\n",
        "    def __init__(self, in_features: int, out_features: int, bias: bool = True,):\n",
        "        # run this line so tht pytorch does the extra steps required to make this a torch module \n",
        "        super(SimpleLinear, self).__init__()\n",
        "\n",
        "        self.in_features = in_features\n",
        "        self.out_features = out_features\n",
        "\n",
        "        # define parameters\n",
        "        w = torch.empty((out_features, in_features))\n",
        "        self.weight = nn.Parameter(w)\n",
        "        # initialize weights to give them random values \n",
        "        nn.init.normal_(self.weight) \n",
        "\n",
        "        if bias:\n",
        "            b = torch.empty(out_features)\n",
        "            self.bias = nn.Parameter(b)\n",
        "            nn.init.normal_(self.bias)\n",
        "        else:\n",
        "            self.register_parameter('bias', None)\n",
        "        \n",
        "    def forward(self, input: torch.Tensor) -> torch.Tensor:\n",
        "        # transpose weights \n",
        "        w_T = self.weight.t()\n",
        "        # (@ is matrix product)\n",
        "        # x: (num data, in_feat)\n",
        "        # x W^T + b\n",
        "        return input @ w_T + self.bias\n",
        "        \n",
        "        #return F.linear(input, self.weight, self.bias)\n",
        "\n",
        "    def extra_repr(self) -> str:\n",
        "        # used when printing\n",
        "        return 'in_features={}, out_features={}, bias={}'.format(\n",
        "            self.in_features, self.out_features, self.bias is not None\n",
        "        )\n",
        "\n"
      ],
      "metadata": {
        "id": "0kU5pwbKsadL"
      },
      "execution_count": null,
      "outputs": []
    },
    {
      "cell_type": "code",
      "source": [
        "fc_simple = SimpleLinear(1,1)\n",
        "\n",
        "mse = torch.nn.MSELoss()\n",
        "optimizer = torch.optim.SGD( fc_simple.parameters(), lr=0.01 )"
      ],
      "metadata": {
        "id": "znm86wATxVIu"
      },
      "execution_count": null,
      "outputs": []
    },
    {
      "cell_type": "code",
      "source": [
        "# GD\n",
        "for i in range(50):\n",
        "    y_pred = fc_simple(x)\n",
        "    loss = mse(y_pred, y)\n",
        "\n",
        "    optimizer.zero_grad()\n",
        "    loss.backward()\n",
        "    optimizer.step()\n",
        "    \n",
        "    print('Epoch: %d | Loss: %.4f' %(i, loss.detach().item()))"
      ],
      "metadata": {
        "colab": {
          "base_uri": "https://localhost:8080/"
        },
        "outputId": "6c59503c-edd9-4be2-9f74-70aa8dc25b68",
        "id": "gmJNXMYsyn16"
      },
      "execution_count": null,
      "outputs": [
        {
          "output_type": "stream",
          "name": "stdout",
          "text": [
            "Epoch: 0 | Loss: 15.1839\n",
            "Epoch: 1 | Loss: 14.5349\n",
            "Epoch: 2 | Loss: 13.9137\n",
            "Epoch: 3 | Loss: 13.3190\n",
            "Epoch: 4 | Loss: 12.7497\n",
            "Epoch: 5 | Loss: 12.2048\n",
            "Epoch: 6 | Loss: 11.6831\n",
            "Epoch: 7 | Loss: 11.1838\n",
            "Epoch: 8 | Loss: 10.7058\n",
            "Epoch: 9 | Loss: 10.2482\n",
            "Epoch: 10 | Loss: 9.8102\n",
            "Epoch: 11 | Loss: 9.3909\n",
            "Epoch: 12 | Loss: 8.9895\n",
            "Epoch: 13 | Loss: 8.6053\n",
            "Epoch: 14 | Loss: 8.2375\n",
            "Epoch: 15 | Loss: 7.8855\n",
            "Epoch: 16 | Loss: 7.5485\n",
            "Epoch: 17 | Loss: 7.2259\n",
            "Epoch: 18 | Loss: 6.9170\n",
            "Epoch: 19 | Loss: 6.6214\n",
            "Epoch: 20 | Loss: 6.3384\n",
            "Epoch: 21 | Loss: 6.0675\n",
            "Epoch: 22 | Loss: 5.8082\n",
            "Epoch: 23 | Loss: 5.5600\n",
            "Epoch: 24 | Loss: 5.3224\n",
            "Epoch: 25 | Loss: 5.0949\n",
            "Epoch: 26 | Loss: 4.8772\n",
            "Epoch: 27 | Loss: 4.6687\n",
            "Epoch: 28 | Loss: 4.4692\n",
            "Epoch: 29 | Loss: 4.2782\n",
            "Epoch: 30 | Loss: 4.0954\n",
            "Epoch: 31 | Loss: 3.9204\n",
            "Epoch: 32 | Loss: 3.7528\n",
            "Epoch: 33 | Loss: 3.5924\n",
            "Epoch: 34 | Loss: 3.4389\n",
            "Epoch: 35 | Loss: 3.2920\n",
            "Epoch: 36 | Loss: 3.1513\n",
            "Epoch: 37 | Loss: 3.0166\n",
            "Epoch: 38 | Loss: 2.8877\n",
            "Epoch: 39 | Loss: 2.7643\n",
            "Epoch: 40 | Loss: 2.6462\n",
            "Epoch: 41 | Loss: 2.5331\n",
            "Epoch: 42 | Loss: 2.4248\n",
            "Epoch: 43 | Loss: 2.3212\n",
            "Epoch: 44 | Loss: 2.2220\n",
            "Epoch: 45 | Loss: 2.1271\n",
            "Epoch: 46 | Loss: 2.0362\n",
            "Epoch: 47 | Loss: 1.9492\n",
            "Epoch: 48 | Loss: 1.8659\n",
            "Epoch: 49 | Loss: 1.7862\n"
          ]
        }
      ]
    },
    {
      "cell_type": "code",
      "source": [
        "list(fc_simple.parameters())"
      ],
      "metadata": {
        "colab": {
          "base_uri": "https://localhost:8080/"
        },
        "id": "z8eW0onpydjb",
        "outputId": "ec3809bb-1cac-4d68-f1dc-20b5a9dd76ca"
      },
      "execution_count": null,
      "outputs": [
        {
          "output_type": "execute_result",
          "data": {
            "text/plain": [
              "[Parameter containing:\n",
              " tensor([[2.9117]], requires_grad=True), Parameter containing:\n",
              " tensor([1.0157], requires_grad=True)]"
            ]
          },
          "metadata": {},
          "execution_count": 42
        }
      ]
    },
    {
      "cell_type": "markdown",
      "source": [
        "# Extra: The Full Source-code for `nn.Linear`\n",
        "Pytorch is open source (at least the python parts). \n",
        "Feel free to consult the source-codes\n",
        "\n",
        "https://github.com/pytorch/pytorch/blob/master/torch/nn/modules/linear.py \n"
      ],
      "metadata": {
        "id": "JwiVgxkqzjb5"
      }
    },
    {
      "cell_type": "code",
      "source": [
        "# build a pytorch linear layer from scratch\n",
        "# (borrowed from pytorch source)\n",
        "\n",
        "class MyLinear(nn.Module):\n",
        "    r\"\"\"Applies a linear transformation to the incoming data: :math:`y = xA^T + b`\n",
        "    This module supports :ref:`TensorFloat32<tf32_on_ampere>`.\n",
        "    Args:\n",
        "        in_features: size of each input sample\n",
        "        out_features: size of each output sample\n",
        "        bias: If set to ``False``, the layer will not learn an additive bias.\n",
        "            Default: ``True``\n",
        "    Shape:\n",
        "        - Input: :math:`(*, H_{in})` where :math:`*` means any number of\n",
        "          dimensions including none and :math:`H_{in} = \\text{in\\_features}`.\n",
        "        - Output: :math:`(*, H_{out})` where all but the last dimension\n",
        "          are the same shape as the input and :math:`H_{out} = \\text{out\\_features}`.\n",
        "    Attributes:\n",
        "        weight: the learnable weights of the module of shape\n",
        "            :math:`(\\text{out\\_features}, \\text{in\\_features})`. The values are\n",
        "            initialized from :math:`\\mathcal{U}(-\\sqrt{k}, \\sqrt{k})`, where\n",
        "            :math:`k = \\frac{1}{\\text{in\\_features}}`\n",
        "        bias:   the learnable bias of the module of shape :math:`(\\text{out\\_features})`.\n",
        "                If :attr:`bias` is ``True``, the values are initialized from\n",
        "                :math:`\\mathcal{U}(-\\sqrt{k}, \\sqrt{k})` where\n",
        "                :math:`k = \\frac{1}{\\text{in\\_features}}`\n",
        "    Examples::\n",
        "        >>> m = nn.Linear(20, 30)\n",
        "        >>> input = torch.randn(128, 20)\n",
        "        >>> output = m(input)\n",
        "        >>> print(output.size())\n",
        "        torch.Size([128, 30])\n",
        "    \"\"\"\n",
        "    __constants__ = ['in_features', 'out_features']\n",
        "    in_features: int\n",
        "    out_features: int\n",
        "    weight: Tensor\n",
        "\n",
        "    def __init__(self, in_features: int, out_features: int, bias: bool = True,\n",
        "                 device=None, dtype=None) -> None:\n",
        "        factory_kwargs = {'device': device, 'dtype': dtype}\n",
        "        super(Linear, self).__init__()\n",
        "        self.in_features = in_features\n",
        "        self.out_features = out_features\n",
        "        self.weight = Parameter(torch.empty((out_features, in_features), **factory_kwargs))\n",
        "        if bias:\n",
        "            self.bias = Parameter(torch.empty(out_features, **factory_kwargs))\n",
        "        else:\n",
        "            self.register_parameter('bias', None)\n",
        "        self.reset_parameters()\n",
        "\n",
        "    def reset_parameters(self) -> None:\n",
        "        # Setting a=sqrt(5) in kaiming_uniform is the same as initializing with\n",
        "        # uniform(-1/sqrt(in_features), 1/sqrt(in_features)). For details, see\n",
        "        # https://github.com/pytorch/pytorch/issues/57109\n",
        "        init.kaiming_uniform_(self.weight, a=math.sqrt(5))\n",
        "        if self.bias is not None:\n",
        "            fan_in, _ = init._calculate_fan_in_and_fan_out(self.weight)\n",
        "            bound = 1 / math.sqrt(fan_in) if fan_in > 0 else 0\n",
        "            init.uniform_(self.bias, -bound, bound)\n",
        "\n",
        "    def forward(self, input: Tensor) -> Tensor:\n",
        "        return F.linear(input, self.weight, self.bias)\n",
        "\n",
        "    def extra_repr(self) -> str:\n",
        "        return 'in_features={}, out_features={}, bias={}'.format(\n",
        "            self.in_features, self.out_features, self.bias is not None\n",
        "        )\n",
        "\n"
      ],
      "metadata": {
        "id": "cyRrf6Durtpe"
      },
      "execution_count": null,
      "outputs": []
    },
    {
      "cell_type": "code",
      "source": [
        ""
      ],
      "metadata": {
        "id": "mCfy8XLi0O82"
      },
      "execution_count": null,
      "outputs": []
    },
    {
      "cell_type": "markdown",
      "metadata": {
        "id": "LAABGiMHeDOr"
      },
      "source": [
        "\n",
        "# Exercises\n",
        "- Add more examples in the input and output tensors. In addition, try to change the dimensions of the data, say by adding an extra value in each array. What needs to be changed to successfully train the network with the new data?\n",
        "- The model converged really fast, which means it learned the relationship between x and y values after a couple of iterations. Do you think it makes sense to continue training? How would you automate the process of stopping the training after the model loss doesn't subtantially change?\n",
        "- In our example, we used a single hidden layer. Try to take a look at the PyTorch documentation to figure out what you need to do to get a model with more layers. What happens if you add more hidden layers?\n",
        "- We did not discuss the learning rate (`lr-0.001`) and the optimizer in great detail. Check out the [PyTorch documentation](https://pytorch.org/docs/stable/optim.html) to learn more about what other optimizers you can use.\n"
      ]
    },
    {
      "cell_type": "markdown",
      "source": [
        ""
      ],
      "metadata": {
        "id": "8m_XYRX87XhL"
      }
    },
    {
      "cell_type": "markdown",
      "source": [
        "# Extra: Under the Hood: A Bit about Gradients "
      ],
      "metadata": {
        "id": "KIWk36QD1HFt"
      }
    },
    {
      "cell_type": "markdown",
      "metadata": {
        "id": "01xVMYB4WhM2"
      },
      "source": [
        "Let us initialize $x$ with random values between [0,10]. In pytorch \"requires_grad\" must be set to true if we want to differentiate a variable"
      ]
    },
    {
      "cell_type": "code",
      "metadata": {
        "colab": {
          "base_uri": "https://localhost:8080/"
        },
        "id": "lM8F4YpTXbau",
        "outputId": "4929e3b0-5840-4df2-d8b4-5791f4981fcb"
      },
      "source": [
        "x = torch.randint(0,10,(4,))\n",
        "x = x.float()\n",
        "x.requires_grad_(True)\n",
        "x"
      ],
      "execution_count": null,
      "outputs": [
        {
          "output_type": "execute_result",
          "data": {
            "text/plain": [
              "tensor([5., 2., 2., 0.], requires_grad=True)"
            ]
          },
          "metadata": {},
          "execution_count": 11
        }
      ]
    },
    {
      "cell_type": "code",
      "source": [
        "x.requires_grad, x.requires_grad_"
      ],
      "metadata": {
        "colab": {
          "base_uri": "https://localhost:8080/"
        },
        "id": "zWCvDPVec30A",
        "outputId": "d942f1d2-9bec-4804-aeaf-628c793f5892"
      },
      "execution_count": null,
      "outputs": [
        {
          "output_type": "execute_result",
          "data": {
            "text/plain": [
              "(False, <function Tensor.requires_grad_>)"
            ]
          },
          "metadata": {},
          "execution_count": 19
        }
      ]
    },
    {
      "cell_type": "markdown",
      "metadata": {
        "id": "cfQAyxr1XBZk"
      },
      "source": [
        "Next, let's define $y$. Since $x$ is a vector, we are taking the dot product of $x$ and itself in order to obtain a scalar value"
      ]
    },
    {
      "cell_type": "code",
      "metadata": {
        "colab": {
          "base_uri": "https://localhost:8080/"
        },
        "id": "Mq00XL3gYT6y",
        "outputId": "41aad72b-9685-4896-fd30-5c634084bc1e"
      },
      "source": [
        "y = 3 * torch.dot(x,x)\n",
        "y"
      ],
      "execution_count": null,
      "outputs": [
        {
          "output_type": "stream",
          "name": "stdout",
          "text": [
            "tensor(99., grad_fn=<MulBackward0>)\n"
          ]
        }
      ]
    },
    {
      "cell_type": "markdown",
      "metadata": {
        "id": "sVPhKdTlXe9S"
      },
      "source": [
        "To show the importance of using the dot product, if we just try to use the multiplication operator for $x$ and itself, we will get a vector in return"
      ]
    },
    {
      "cell_type": "code",
      "metadata": {
        "colab": {
          "base_uri": "https://localhost:8080/"
        },
        "id": "3DiSjNoSXcP2",
        "outputId": "341eccad-ec89-420c-ee3f-8b0613c94d97"
      },
      "source": [
        "3*x*x"
      ],
      "execution_count": null,
      "outputs": [
        {
          "output_type": "execute_result",
          "data": {
            "text/plain": [
              "tensor([75., 12., 12.,  0.], grad_fn=<MulBackward0>)"
            ]
          },
          "metadata": {},
          "execution_count": 13
        }
      ]
    },
    {
      "cell_type": "markdown",
      "metadata": {
        "id": "7mZ7nVshX5w_"
      },
      "source": [
        "Next, we can automatically calculate the gradient of $y$ with respect to each component of $x$ by calling the function for backpropagation and printing the gradient"
      ]
    },
    {
      "cell_type": "code",
      "metadata": {
        "colab": {
          "base_uri": "https://localhost:8080/"
        },
        "id": "0s6yVRffYwXq",
        "outputId": "ac23b8cc-220c-4cb5-944f-85286f537b94"
      },
      "source": [
        "y.backward()\n",
        "x.grad"
      ],
      "execution_count": null,
      "outputs": [
        {
          "output_type": "execute_result",
          "data": {
            "text/plain": [
              "tensor([30., 12., 12.,  0.])"
            ]
          },
          "metadata": {},
          "execution_count": 14
        }
      ]
    },
    {
      "cell_type": "markdown",
      "metadata": {
        "id": "XI3ov7voYMS7"
      },
      "source": [
        "The gradient of the function  $y=3x^T x$  with respect to $x$ should be $6x$. Let us quickly verify that our desired gradient was calculated correctly."
      ]
    },
    {
      "cell_type": "code",
      "metadata": {
        "colab": {
          "base_uri": "https://localhost:8080/"
        },
        "id": "0aKN24tLY1A3",
        "outputId": "cbdba786-50d2-4704-a3cc-ddce91331347"
      },
      "source": [
        "3*2*x == x.grad"
      ],
      "execution_count": null,
      "outputs": [
        {
          "output_type": "execute_result",
          "data": {
            "text/plain": [
              "tensor([True, True, True, True])"
            ]
          },
          "metadata": {},
          "execution_count": 15
        }
      ]
    },
    {
      "cell_type": "markdown",
      "metadata": {
        "id": "9pI3gzLSZpLy"
      },
      "source": [
        "Since the gradient stored in \"x.grad\" matches $6x$, we know that our differentiation worked."
      ]
    },
    {
      "cell_type": "markdown",
      "source": [
        "# Extra: Defining Custom Loss Functions "
      ],
      "metadata": {
        "id": "Qj06gYTZ8C6V"
      }
    },
    {
      "cell_type": "markdown",
      "metadata": {
        "id": "WK199Go75zpg"
      },
      "source": [
        "#### Quadratic Loss"
      ]
    },
    {
      "cell_type": "code",
      "metadata": {
        "id": "4UcJD9qW4IPv"
      },
      "source": [
        "class QuadraticLoss(nn.Module):\n",
        "    def __init__(self):\n",
        "        super().__init__()\n",
        "\n",
        "    def forward(self, outputs, target):\n",
        "        return 0.5 * torch.sum((outputs - target) ** 2)"
      ],
      "execution_count": null,
      "outputs": []
    },
    {
      "cell_type": "markdown",
      "metadata": {
        "id": "dWkaQTOW4kxo"
      },
      "source": [
        "##### Usage"
      ]
    },
    {
      "cell_type": "code",
      "metadata": {
        "colab": {
          "base_uri": "https://localhost:8080/"
        },
        "id": "3rvln7924obO",
        "outputId": "8dc2df18-5176-4a85-b1c8-64339f3853dd"
      },
      "source": [
        "loss = QuadraticLoss()\n",
        "outputs = torch.Tensor([1., 2., 3.])\n",
        "target = torch.Tensor([2., 1., 0.])\n",
        "print(loss(outputs, target))"
      ],
      "execution_count": null,
      "outputs": [
        {
          "output_type": "stream",
          "name": "stdout",
          "text": [
            "tensor(5.5000)\n"
          ]
        }
      ]
    },
    {
      "cell_type": "markdown",
      "metadata": {
        "id": "h0JDRtAW5t6D"
      },
      "source": [
        "### Classification"
      ]
    },
    {
      "cell_type": "markdown",
      "metadata": {
        "id": "SB53QGZF5_8E"
      },
      "source": [
        "#### 0-1 Loss"
      ]
    },
    {
      "cell_type": "code",
      "metadata": {
        "id": "3NPocm2r6IGJ"
      },
      "source": [
        "class ZeroOneLoss(nn.Module):\n",
        "    def __init__(self):\n",
        "        super().__init__()\n",
        "\n",
        "    def forward(self, outputs, target):\n",
        "        product = outputs * target\n",
        "        product[product >= 0] = 0\n",
        "        product[product < 0] = 1\n",
        "        return torch.sum(product)"
      ],
      "execution_count": null,
      "outputs": []
    },
    {
      "cell_type": "markdown",
      "metadata": {
        "id": "9GDBNCFM8Ron"
      },
      "source": [
        "##### Usage"
      ]
    },
    {
      "cell_type": "code",
      "metadata": {
        "colab": {
          "base_uri": "https://localhost:8080/"
        },
        "id": "33V4_iFm8QSW",
        "outputId": "9dbeece5-6bf8-4b3a-f540-c28d7e911a53"
      },
      "source": [
        "loss = ZeroOneLoss()\n",
        "outputs = torch.Tensor([2., -1.5, -0.7])\n",
        "target = torch.Tensor([1., -1, 1.])\n",
        "print(loss(outputs, target))"
      ],
      "execution_count": null,
      "outputs": [
        {
          "output_type": "stream",
          "name": "stdout",
          "text": [
            "tensor(1.)\n"
          ]
        }
      ]
    },
    {
      "cell_type": "markdown",
      "metadata": {
        "id": "H1FnxUTj8pgk"
      },
      "source": [
        "#### Hinge Loss"
      ]
    },
    {
      "cell_type": "code",
      "metadata": {
        "id": "E0Kn4-0r8sm3"
      },
      "source": [
        "class HingeLoss(nn.Module):\n",
        "    def __init__(self):\n",
        "        super().__init__()\n",
        "\n",
        "    def forward(self, outputs, target):\n",
        "        product = outputs * target\n",
        "        zeros = torch.zeros_like(product)\n",
        "        return torch.sum(torch.maximum(zeros, 1 - product))"
      ],
      "execution_count": null,
      "outputs": []
    },
    {
      "cell_type": "markdown",
      "metadata": {
        "id": "j0FRbX5R9Kdh"
      },
      "source": [
        "##### Usage"
      ]
    },
    {
      "cell_type": "code",
      "metadata": {
        "colab": {
          "base_uri": "https://localhost:8080/"
        },
        "id": "75Y3SYSA9Mcw",
        "outputId": "af2861cc-1e15-4caf-cd60-a706fa6fc1af"
      },
      "source": [
        "loss = HingeLoss()\n",
        "outputs = torch.Tensor([2., -1.5, -0.7])\n",
        "target = torch.Tensor([1., -1, 1.])\n",
        "print(loss(outputs, target))"
      ],
      "execution_count": null,
      "outputs": [
        {
          "output_type": "stream",
          "name": "stdout",
          "text": [
            "tensor(1.7000)\n"
          ]
        }
      ]
    },
    {
      "cell_type": "markdown",
      "metadata": {
        "id": "f_GhrjKE-NyV"
      },
      "source": [
        "#### Cross-Entropy\n",
        "\n",
        "**Note:** When `z` is a large negative number, `exp(-z)` blows up. To avoid that, the following implementation uses a numerically stable version of cross-entropy. \n",
        "\n",
        "$L_{CE} = \\text{max}(0, z) - zy + \\text{log}(1 + e^{-|z|})$\n",
        "\n",
        "[Reference](https://rafayak.medium.com/how-do-tensorflow-and-keras-implement-binary-classification-and-the-binary-cross-entropy-function-e9413826da7)"
      ]
    },
    {
      "cell_type": "code",
      "metadata": {
        "id": "G9gkLqkg-T2r"
      },
      "source": [
        "class CrossEntropyLoss(nn.Module):\n",
        "    def __init__(self):\n",
        "        super().__init__()\n",
        "\n",
        "    def forward(self, outputs, target):\n",
        "        zeros = torch.zeros_like(outputs)\n",
        "        loss = torch.maximum(zeros, outputs) - outputs * target + torch.log1p(torch.exp(-torch.abs(outputs)))\n",
        "        return torch.sum(loss)"
      ],
      "execution_count": null,
      "outputs": []
    },
    {
      "cell_type": "markdown",
      "metadata": {
        "id": "JrzOLWK2GPH3"
      },
      "source": [
        "##### Usage"
      ]
    },
    {
      "cell_type": "code",
      "metadata": {
        "colab": {
          "base_uri": "https://localhost:8080/"
        },
        "id": "wIEXKl3sGQ_a",
        "outputId": "007db534-8e4d-4910-c5f6-f131bd05936f"
      },
      "source": [
        "loss = CrossEntropyLoss()\n",
        "outputs = torch.Tensor([2., -1.5, -0.7])\n",
        "target = torch.Tensor([1., -1, 1.])\n",
        "print(loss(outputs, target))"
      ],
      "execution_count": null,
      "outputs": [
        {
          "output_type": "stream",
          "name": "stdout",
          "text": [
            "tensor(-0.0685)\n"
          ]
        }
      ]
    },
    {
      "cell_type": "markdown",
      "metadata": {
        "id": "3il9CJLuIc4U"
      },
      "source": [
        "#### Softmax\n",
        "\n",
        "`Softmax` is used to convert outputs of a model into probabilities when the number of classes is more than 2.\n",
        "\n",
        "**Note:** For reasons similar to the above, `Softmax` is implemented as:\n",
        "\n",
        "$\\frac{e^{z - \\text{max}(z)}}{\\sum_i e^{z_i - \\text{max}(z)}}$\n",
        "\n",
        "The exponent is always negative, so we don't risk any numerical instability."
      ]
    },
    {
      "cell_type": "code",
      "metadata": {
        "id": "AvxqYUf9INcZ"
      },
      "source": [
        "class Softmax(nn.Module):\n",
        "    def __init__(self):\n",
        "        super().__init__()\n",
        "\n",
        "    def forward(self, outputs):\n",
        "        outputs = outputs - torch.max(outputs)\n",
        "        exp_outputs = torch.exp(outputs)\n",
        "        return exp_outputs / torch.sum(exp_outputs)"
      ],
      "execution_count": null,
      "outputs": []
    },
    {
      "cell_type": "markdown",
      "metadata": {
        "id": "VT4Huc3GKFsF"
      },
      "source": [
        "##### Usage"
      ]
    },
    {
      "cell_type": "code",
      "metadata": {
        "id": "jE6S3-3HKH5A"
      },
      "source": [
        "softmax = Softmax()\n",
        "outputs = torch.Tensor([1. , 1., 1.])\n",
        "print(softmax(outputs))"
      ],
      "execution_count": null,
      "outputs": []
    },
    {
      "cell_type": "markdown",
      "source": [
        "# More General Models\n",
        "The module `torch.nn.Module` can be used to construct arbitrary NN layers and models. \n"
      ],
      "metadata": {
        "id": "HBqwqTemz87G"
      }
    },
    {
      "cell_type": "code",
      "metadata": {
        "id": "QiNp4TzjBqoy"
      },
      "source": [
        "# import torch \n",
        "import torch.nn as nn\n",
        "import torch.optim as optim\n",
        "import torch.nn.functional as F\n",
        "from torch.utils.data import DataLoader\n",
        "import torchvision.datasets as datasets\n",
        "import torchvision.transforms as transforms\n",
        "# from torchsummary import summary\n",
        "from torchvision.transforms import ToTensor\n",
        "import torchvision\n",
        "from torchvision.utils import make_grid\n",
        "from torch.utils.data import random_split\n"
      ],
      "execution_count": null,
      "outputs": []
    },
    {
      "cell_type": "code",
      "source": [
        ""
      ],
      "metadata": {
        "id": "o3ERQ8OLyG0V"
      },
      "execution_count": null,
      "outputs": []
    },
    {
      "cell_type": "markdown",
      "source": [
        "## Hyperparameters\n",
        "The width of hidden layers and all other variables chosen by us are called __hyperparameters__. \n",
        "![alt text](https://images.deepai.org/glossary-terms/4c9d8f89916848b4803df475ef6892be/hiddenlayer.png)"
      ],
      "metadata": {
        "id": "slZUzLi-3p3s"
      }
    },
    {
      "cell_type": "markdown",
      "metadata": {
        "id": "-jjI2dAuBzsd"
      },
      "source": [
        "Let's setup the hyperparameters, the input size is 28*28 since each image is 28 by 28 pixels, we will use 20 epochs and a batch size of 128 feel free to experiment with these and change them. Also, we'll set the seed to 42 for reproducibility."
      ]
    },
    {
      "cell_type": "code",
      "metadata": {
        "id": "OcauZYM4B9FY"
      },
      "source": [
        "input_size = 784 # 28x28\n",
        "hidden_width = 50\n",
        "num_classes = 10\n",
        "num_epochs = 20 # Change if you'd like\n",
        "batch_size = 128 # Change if you'd like\n",
        "eta = .001\n",
        "torch.manual_seed(42)\n",
        "validation_size = 5000"
      ],
      "execution_count": null,
      "outputs": []
    },
    {
      "cell_type": "markdown",
      "source": [
        "## The MNIST Dataset"
      ],
      "metadata": {
        "id": "4CYpDJ7j1eRE"
      }
    },
    {
      "cell_type": "markdown",
      "metadata": {
        "id": "tapu6S0SB-LR"
      },
      "source": [
        "Below downloads and loads the MNIST data set from Pytorch's datasets creating a training, test, and validation set loader:"
      ]
    },
    {
      "cell_type": "code",
      "metadata": {
        "colab": {
          "base_uri": "https://localhost:8080/",
          "height": 449,
          "referenced_widgets": [
            "1810359dd5cd4ac59a2e9b627ae08d0b",
            "7093105fd10946599b82788329fec6d3",
            "2e993cbfc23246c9a5d81e6d959c42fb",
            "e7e6ca7881204c89916a06a2fdcd8345",
            "5e4f73ff1f7a4691941cf53c3f15c301",
            "4f83a85399f8462bb6c549385c65397c",
            "a475589a6f5a465fa9497c04cc6e4f46",
            "24df75610f584783abc021f02a05ab05",
            "fad6a1c563e04193bd192a0d11a3c405",
            "161ff0430ef247db99b1cd898a910da6",
            "723f4739e26c4750b74a6924d1c2f976",
            "7cd1cdc8fab8474dae95bee5f79d8aee",
            "d6f42f78b3c444eea5ed6bcf855f3803",
            "18a7d715b1a74a5da894f3e23b9b976b",
            "cdcc404e92954e449b0525e029ae8f0c",
            "81528e65210e4057b56e5d0b76ebde2c",
            "af98c4e29815401e81351de5654bf29b",
            "8b56179f2eeb4c2680b16f9dd205917d",
            "bc78f2c253e54ae7894f4f5b58ff8d01",
            "45268f6f408c487d9d1e7ae7d67d8155",
            "f1cbfe554e8c4a23abdb869cf388ea7c",
            "cbbb0be1c3e0450db51886f6fec71933",
            "5db2d9eb2c6540b1a8299620598d9e86",
            "ebb7d7662c06484b88170968a45cbec8",
            "fee68799f23241a1ae64f2cbc168d89a",
            "eda5669bcf3d4e2680da285ffe8f8d2d",
            "df6764eb6e274253aa35c60c63b84152",
            "dd1dd4b7793d4cf49d5b99c116ce84d5",
            "1eb745fb03bb41d7b2367c47a66ef7f1",
            "e691172d70df411bb434b1d90a51ccdf",
            "c8ee8e5811fc497f811e06d58604e18e",
            "79490e00ac1946548b46cb8d524d774e",
            "ad6a6d49c4c648ec994eff78f654985b",
            "c429bf09449a4286a92ddbfe8d7fb2f0",
            "2a3a8df2f59d4bad871b48bfe904d98e",
            "32582339a9a347369c298404923121f0",
            "5ab80dc0c9474b998440937728dcd300",
            "2341a6c92fc1470ea6a382c6cee95b5e",
            "d561e439138943318c9ca5d6ac402ba7",
            "1a26eed11dfe49ef92d4afef72c44b57",
            "ce935a57c26f438caed54ee0cdb6847a",
            "88df0934c0a74f719ac50bde196e6f4e",
            "de416f6127ca484aaef25ec142bf4749",
            "06a7eea55cf548b3b12228ad4c978598"
          ]
        },
        "id": "9kiENUSACGAT",
        "outputId": "4ea69080-77d6-4cea-f8c9-e5120c74ae58"
      },
      "source": [
        "training_data = datasets.MNIST(\n",
        "    root=\"data\",\n",
        "    train=True,\n",
        "    download=True,\n",
        "    transform=ToTensor()\n",
        ")\n",
        "\n",
        "test_data = datasets.MNIST(\n",
        "    root=\"data\",\n",
        "    train=False,\n",
        "    download=True,\n",
        "    transform=ToTensor()\n",
        ")\n",
        "\n",
        "train_size = len(training_data) - validation_size\n",
        "\n",
        "training_data, validation_data = random_split(training_data, [train_size, validation_size])\n",
        "\n",
        "train_loader = torch.utils.data.DataLoader(dataset=training_data, batch_size=batch_size, shuffle=True)\n",
        "validation_loader = torch.utils.data.DataLoader(dataset=validation_data, batch_size=batch_size, shuffle=True, pin_memory=True)\n",
        "test_loader = torch.utils.data.DataLoader(dataset=test_data, batch_size=batch_size, shuffle=False)\n",
        "len(training_data), len(validation_data)"
      ],
      "execution_count": null,
      "outputs": [
        {
          "output_type": "stream",
          "name": "stdout",
          "text": [
            "Downloading http://yann.lecun.com/exdb/mnist/train-images-idx3-ubyte.gz\n",
            "Downloading http://yann.lecun.com/exdb/mnist/train-images-idx3-ubyte.gz to data/MNIST/raw/train-images-idx3-ubyte.gz\n"
          ]
        },
        {
          "output_type": "display_data",
          "data": {
            "text/plain": [
              "  0%|          | 0/9912422 [00:00<?, ?it/s]"
            ],
            "application/vnd.jupyter.widget-view+json": {
              "version_major": 2,
              "version_minor": 0,
              "model_id": "1810359dd5cd4ac59a2e9b627ae08d0b"
            }
          },
          "metadata": {}
        },
        {
          "output_type": "stream",
          "name": "stdout",
          "text": [
            "Extracting data/MNIST/raw/train-images-idx3-ubyte.gz to data/MNIST/raw\n",
            "\n",
            "Downloading http://yann.lecun.com/exdb/mnist/train-labels-idx1-ubyte.gz\n",
            "Downloading http://yann.lecun.com/exdb/mnist/train-labels-idx1-ubyte.gz to data/MNIST/raw/train-labels-idx1-ubyte.gz\n"
          ]
        },
        {
          "output_type": "display_data",
          "data": {
            "text/plain": [
              "  0%|          | 0/28881 [00:00<?, ?it/s]"
            ],
            "application/vnd.jupyter.widget-view+json": {
              "version_major": 2,
              "version_minor": 0,
              "model_id": "7cd1cdc8fab8474dae95bee5f79d8aee"
            }
          },
          "metadata": {}
        },
        {
          "output_type": "stream",
          "name": "stdout",
          "text": [
            "Extracting data/MNIST/raw/train-labels-idx1-ubyte.gz to data/MNIST/raw\n",
            "\n",
            "Downloading http://yann.lecun.com/exdb/mnist/t10k-images-idx3-ubyte.gz\n",
            "Downloading http://yann.lecun.com/exdb/mnist/t10k-images-idx3-ubyte.gz to data/MNIST/raw/t10k-images-idx3-ubyte.gz\n"
          ]
        },
        {
          "output_type": "display_data",
          "data": {
            "text/plain": [
              "  0%|          | 0/1648877 [00:00<?, ?it/s]"
            ],
            "application/vnd.jupyter.widget-view+json": {
              "version_major": 2,
              "version_minor": 0,
              "model_id": "5db2d9eb2c6540b1a8299620598d9e86"
            }
          },
          "metadata": {}
        },
        {
          "output_type": "stream",
          "name": "stdout",
          "text": [
            "Extracting data/MNIST/raw/t10k-images-idx3-ubyte.gz to data/MNIST/raw\n",
            "\n",
            "Downloading http://yann.lecun.com/exdb/mnist/t10k-labels-idx1-ubyte.gz\n",
            "Downloading http://yann.lecun.com/exdb/mnist/t10k-labels-idx1-ubyte.gz to data/MNIST/raw/t10k-labels-idx1-ubyte.gz\n"
          ]
        },
        {
          "output_type": "display_data",
          "data": {
            "text/plain": [
              "  0%|          | 0/4542 [00:00<?, ?it/s]"
            ],
            "application/vnd.jupyter.widget-view+json": {
              "version_major": 2,
              "version_minor": 0,
              "model_id": "c429bf09449a4286a92ddbfe8d7fb2f0"
            }
          },
          "metadata": {}
        },
        {
          "output_type": "stream",
          "name": "stdout",
          "text": [
            "Extracting data/MNIST/raw/t10k-labels-idx1-ubyte.gz to data/MNIST/raw\n",
            "\n"
          ]
        },
        {
          "output_type": "execute_result",
          "data": {
            "text/plain": [
              "(55000, 5000)"
            ]
          },
          "metadata": {},
          "execution_count": 71
        }
      ]
    },
    {
      "cell_type": "markdown",
      "metadata": {
        "id": "YMrZJt3lxLBG"
      },
      "source": [
        "We can show a grid of what a batch of data will look like using the `make_grid` function from `torchvision`."
      ]
    },
    {
      "cell_type": "code",
      "metadata": {
        "colab": {
          "base_uri": "https://localhost:8080/",
          "height": 484
        },
        "id": "bBcDlwYCxTKO",
        "outputId": "4a0fccbb-db15-481a-c1c8-84844dcdeee3"
      },
      "source": [
        "for images, _ in train_loader:\n",
        "    print('images.shape:', images.shape)\n",
        "    plt.figure(figsize=(16,8))\n",
        "    plt.axis('off')\n",
        "    plt.imshow(make_grid(images, nrow=16).permute((1, 2, 0)))\n",
        "    break"
      ],
      "execution_count": null,
      "outputs": [
        {
          "output_type": "stream",
          "name": "stdout",
          "text": [
            "images.shape: torch.Size([128, 1, 28, 28])\n"
          ]
        },
        {
          "output_type": "display_data",
          "data": {
            "text/plain": [
              "<Figure size 1152x576 with 1 Axes>"
            ],
            "image/png": "[encoded data removed]"
          },
          "metadata": {
            "needs_background": "light"
          }
        }
      ]
    },
    {
      "cell_type": "markdown",
      "metadata": {
        "id": "kKjl3VtbCIbX"
      },
      "source": [
        "Now, we will create a simple fully connected Network with two Linear layers and a RELU nonlinear activation:"
      ]
    },
    {
      "cell_type": "code",
      "metadata": {
        "id": "vVJoEazjCM5_"
      },
      "source": [
        "class Net(nn.Module):\n",
        "  def __init__(self, input_size, hidden_size, num_classes):\n",
        "    super().__init__()\n",
        "    self.fc1 = nn.Linear(input_size, hidden_size)\n",
        "    self.fc2 = nn.Linear(hidden_size, num_classes)\n",
        "\n",
        "  def forward(self, x):\n",
        "    x = x.view(x.size(0), -1) # convert to (# data points, all the rest )\n",
        "    x = self.fc1(x)\n",
        "    x = F.relu(x) # rectified linear unit \n",
        "    x = self.fc2(x)\n",
        "    return x"
      ],
      "execution_count": null,
      "outputs": []
    },
    {
      "cell_type": "code",
      "source": [
        "net = Net(input_size= 3, hidden_size= 5, num_classes= 4)"
      ],
      "metadata": {
        "id": "c28rlgV0fk6d"
      },
      "execution_count": null,
      "outputs": []
    },
    {
      "cell_type": "code",
      "source": [
        "net.fc1, net.fc2"
      ],
      "metadata": {
        "colab": {
          "base_uri": "https://localhost:8080/"
        },
        "id": "MvbbYYaqf44r",
        "outputId": "66f3c607-a4bc-44dc-e162-69446c1093ea"
      },
      "execution_count": null,
      "outputs": [
        {
          "output_type": "execute_result",
          "data": {
            "text/plain": [
              "(Linear(in_features=3, out_features=5, bias=True),\n",
              " Linear(in_features=5, out_features=4, bias=True))"
            ]
          },
          "metadata": {},
          "execution_count": 78
        }
      ]
    },
    {
      "cell_type": "code",
      "source": [
        "x = torch.rand(5,3,1,1)\n",
        "net(x)"
      ],
      "metadata": {
        "colab": {
          "base_uri": "https://localhost:8080/"
        },
        "id": "TwC5lftNhNNd",
        "outputId": "139a64c2-d4f8-4a5e-a14c-61fe4ab5bc82"
      },
      "execution_count": null,
      "outputs": [
        {
          "output_type": "execute_result",
          "data": {
            "text/plain": [
              "tensor([[ 0.1937, -0.4447, -0.3859,  0.3333],\n",
              "        [ 0.0309, -0.4709, -0.4305,  0.1562],\n",
              "        [ 0.1561, -0.4098, -0.2764,  0.2453],\n",
              "        [ 0.2314, -0.3752, -0.1835,  0.3028],\n",
              "        [ 0.3252, -0.3884, -0.1367,  0.3644]], grad_fn=<AddmmBackward0>)"
            ]
          },
          "metadata": {},
          "execution_count": 80
        }
      ]
    },
    {
      "cell_type": "code",
      "source": [
        "images.shape # (num, colors, x, y)"
      ],
      "metadata": {
        "id": "W0knpozg3JVv",
        "colab": {
          "base_uri": "https://localhost:8080/"
        },
        "outputId": "b8bb7155-5953-4906-ef23-ef4df51e66a1"
      },
      "execution_count": null,
      "outputs": [
        {
          "output_type": "execute_result",
          "data": {
            "text/plain": [
              "torch.Size([128, 1, 28, 28])"
            ]
          },
          "metadata": {},
          "execution_count": 84
        }
      ]
    },
    {
      "cell_type": "code",
      "source": [
        "net = Net(input_size= 1*28*28, hidden_size= 20, num_classes= 10)"
      ],
      "metadata": {
        "id": "YJjShBuQhnce"
      },
      "execution_count": null,
      "outputs": []
    },
    {
      "cell_type": "code",
      "source": [
        "y_pred = net(images)"
      ],
      "metadata": {
        "id": "PHqqFApShy-D"
      },
      "execution_count": null,
      "outputs": []
    },
    {
      "cell_type": "code",
      "source": [
        "y_pred.size()"
      ],
      "metadata": {
        "colab": {
          "base_uri": "https://localhost:8080/"
        },
        "id": "KdTLxM_Kh3Jf",
        "outputId": "5a05f649-99ff-4201-98a7-6e79d5fa3054"
      },
      "execution_count": null,
      "outputs": [
        {
          "output_type": "execute_result",
          "data": {
            "text/plain": [
              "torch.Size([128, 10])"
            ]
          },
          "metadata": {},
          "execution_count": 89
        }
      ]
    },
    {
      "cell_type": "code",
      "source": [
        "images.view(128, -1).shape"
      ],
      "metadata": {
        "colab": {
          "base_uri": "https://localhost:8080/"
        },
        "id": "yEjclL1LzBxl",
        "outputId": "9ebe43db-0202-49fe-de70-1346ba237b2b"
      },
      "execution_count": null,
      "outputs": [
        {
          "output_type": "execute_result",
          "data": {
            "text/plain": [
              "torch.Size([128, 784])"
            ]
          },
          "metadata": {},
          "execution_count": 49
        }
      ]
    },
    {
      "cell_type": "markdown",
      "source": [
        "### Summary: A useful tool\n",
        "We often care about how many trianable parameters our model has.\n",
        "Unfortunately, pytorch doesn't provide a direct function for this. \n",
        "But you can install `torchsummary` for this (mimicks the `model.summary()` method in Keras in Tensorflow, which is another ML framework).  "
      ],
      "metadata": {
        "id": "FkkJmvYy4qMe"
      }
    },
    {
      "cell_type": "code",
      "source": [
        "!pip install torchsummary"
      ],
      "metadata": {
        "colab": {
          "base_uri": "https://localhost:8080/"
        },
        "id": "WotbDIY54pHq",
        "outputId": "32a28739-0b2f-465e-dc8e-c739ed87119c"
      },
      "execution_count": null,
      "outputs": [
        {
          "output_type": "stream",
          "name": "stdout",
          "text": [
            "Collecting torchsummary\n",
            "  Downloading torchsummary-1.5.1-py3-none-any.whl (2.8 kB)\n",
            "Installing collected packages: torchsummary\n",
            "Successfully installed torchsummary-1.5.1\n"
          ]
        }
      ]
    },
    {
      "cell_type": "code",
      "source": [
        "from torchsummary import summary"
      ],
      "metadata": {
        "id": "aTJvr4He5Weg"
      },
      "execution_count": null,
      "outputs": []
    },
    {
      "cell_type": "code",
      "source": [
        "model = Net(input_size=input_size, hidden_size=10, num_classes=num_classes).to(device)\n",
        "summary(model, (1, input_size))"
      ],
      "metadata": {
        "colab": {
          "base_uri": "https://localhost:8080/"
        },
        "id": "d0eHCpeh5bh7",
        "outputId": "62cc66d2-7fba-4bc7-f6e8-296b9922c5b6"
      },
      "execution_count": null,
      "outputs": [
        {
          "output_type": "stream",
          "name": "stdout",
          "text": [
            "----------------------------------------------------------------\n",
            "        Layer (type)               Output Shape         Param #\n",
            "================================================================\n",
            "            Linear-1                   [-1, 10]           7,850\n",
            "            Linear-2                   [-1, 10]             110\n",
            "================================================================\n",
            "Total params: 7,960\n",
            "Trainable params: 7,960\n",
            "Non-trainable params: 0\n",
            "----------------------------------------------------------------\n",
            "Input size (MB): 0.00\n",
            "Forward/backward pass size (MB): 0.00\n",
            "Params size (MB): 0.03\n",
            "Estimated Total Size (MB): 0.03\n",
            "----------------------------------------------------------------\n"
          ]
        }
      ]
    },
    {
      "cell_type": "markdown",
      "metadata": {
        "id": "vzQIW1W9zkoN"
      },
      "source": [
        "## Simple Feedforward Neural Network\n",
        "\n",
        "Let us see how a simple neural network works. We will use Pytorch and the following implementation is coming from [this Pytorch tutorial](https://pytorch.org/tutorials/beginner/basics/buildmodel_tutorial.html)."
      ]
    },
    {
      "cell_type": "code",
      "metadata": {
        "colab": {
          "base_uri": "https://localhost:8080/"
        },
        "id": "eB-736RizwRO",
        "outputId": "9fac2a56-a7f0-4dd9-ef2e-91f98e2a419a"
      },
      "source": [
        "device = 'cuda' if torch.cuda.is_available() else 'cpu'\n",
        "print('Using {} device'.format(device))"
      ],
      "execution_count": null,
      "outputs": [
        {
          "output_type": "stream",
          "name": "stdout",
          "text": [
            "Using cpu device\n"
          ]
        }
      ]
    },
    {
      "cell_type": "markdown",
      "metadata": {
        "id": "NWzQ-8P-zyFK"
      },
      "source": [
        "We can now define our network. Supposing that the input x is two dimensional (such as an image with 28\\*28 pixels), we first need to flatten it into the vector with 28\\*28=784 features.\n",
        "\n",
        "Let's see an example of x with dimensions 2\\*2."
      ]
    },
    {
      "cell_type": "code",
      "metadata": {
        "colab": {
          "base_uri": "https://localhost:8080/"
        },
        "id": "C7-AadNGz2Cz",
        "outputId": "0684294f-cbb0-4977-a4da-c5113228c89c"
      },
      "source": [
        "x = torch.randint(0,10,(2,2))\n",
        "print(x)\n",
        "\n",
        "# a layer to flatten arrays\n",
        "lay_flat = nn.Flatten(start_dim=0) # from which dimension on flatten the data\n",
        "print(lay_flat(x))"
      ],
      "execution_count": null,
      "outputs": [
        {
          "output_type": "stream",
          "name": "stdout",
          "text": [
            "tensor([[2, 8],\n",
            "        [6, 3]])\n",
            "tensor([2, 8, 6, 3])\n"
          ]
        }
      ]
    },
    {
      "cell_type": "markdown",
      "metadata": {
        "id": "4yclCrw6z4ei"
      },
      "source": [
        "Once we have the input ready, we plug it into our network. The network will perform a linear transformation, followed by a non-linear activation function (ReLU in our case). This allows to represent complex data better than using only linear transformation.\n",
        "\n",
        "Our neural network will map the input to 2 hidden layers and then to a fixed dimension output.\n",
        "\n",
        "\n",
        "![alt text](https://miro.medium.com/max/357/1*oePAhrm74RNnNEolprmTaQ.png)"
      ]
    },
    {
      "cell_type": "code",
      "source": [
        "linear_relu_stack = nn.Sequential(\n",
        "            nn.Linear(28*28, 512), # linear transformation\n",
        "            nn.ReLU(),  # non-linear transformation\n",
        "            nn.Linear(512, 512),\n",
        "            nn.ReLU(),\n",
        "            nn.Linear(512, 10),\n",
        "        )"
      ],
      "metadata": {
        "id": "2otw0aI-iPQf"
      },
      "execution_count": null,
      "outputs": []
    },
    {
      "cell_type": "code",
      "metadata": {
        "id": "QrC0yni4z5CQ"
      },
      "source": [
        "class NeuralNetwork(nn.Module):\n",
        "    def __init__(self):\n",
        "        super(NeuralNetwork, self).__init__()\n",
        "        self.flatten = nn.Flatten() \n",
        "        self.linear_relu_stack = nn.Sequential(\n",
        "            nn.Linear(28*28, 512), # linear transformation\n",
        "            nn.ReLU(),  # non-linear transformation\n",
        "            nn.Linear(512, 512),\n",
        "            nn.ReLU(),\n",
        "            nn.Linear(512, 10),\n",
        "        )\n",
        "\n",
        "    def forward(self, x):\n",
        "        x = self.flatten(x) # flatten the input into a vector\n",
        "        logits = self.linear_relu_stack(x) # call the sequential function\n",
        "        return logits # return raw values"
      ],
      "execution_count": null,
      "outputs": []
    },
    {
      "cell_type": "markdown",
      "metadata": {
        "id": "IgT6RK6nz7ZR"
      },
      "source": [
        "We can now construct our model and print its parameters.\n"
      ]
    },
    {
      "cell_type": "code",
      "metadata": {
        "colab": {
          "base_uri": "https://localhost:8080/"
        },
        "id": "JyA9BuTyz-PJ",
        "outputId": "4c44f5b9-7425-41c3-c5a5-bc9b4349e050"
      },
      "source": [
        "model = NeuralNetwork().to(device)\n",
        "print(model)"
      ],
      "execution_count": null,
      "outputs": [
        {
          "output_type": "stream",
          "name": "stdout",
          "text": [
            "NeuralNetwork(\n",
            "  (flatten): Flatten(start_dim=1, end_dim=-1)\n",
            "  (linear_relu_stack): Sequential(\n",
            "    (0): Linear(in_features=784, out_features=512, bias=True)\n",
            "    (1): ReLU()\n",
            "    (2): Linear(in_features=512, out_features=512, bias=True)\n",
            "    (3): ReLU()\n",
            "    (4): Linear(in_features=512, out_features=10, bias=True)\n",
            "  )\n",
            ")\n"
          ]
        }
      ]
    },
    {
      "cell_type": "markdown",
      "metadata": {
        "id": "BLX4AGuC0AXk"
      },
      "source": [
        "Let us now test it by using as input a random x. Once we obtain the logits (raw values, we want to transform them into probabilities by using a softmax function.\n",
        "\n",
        "Once we have that, we can take the argmax or the mazimum probability given by the output of the softmax function. Whichever label had the hughest probability is our result.\n"
      ]
    },
    {
      "cell_type": "code",
      "source": [
        "im, label = train_loader.dataset[0]\n",
        "imshow(im[0])\n",
        "title(label)\n",
        "print(im.shape)"
      ],
      "metadata": {
        "colab": {
          "base_uri": "https://localhost:8080/",
          "height": 299
        },
        "id": "SgRkYfuF7rSZ",
        "outputId": "f2f21f88-c150-4ccd-e8cd-019a688da27b"
      },
      "execution_count": null,
      "outputs": [
        {
          "output_type": "stream",
          "name": "stdout",
          "text": [
            "torch.Size([1, 28, 28])\n"
          ]
        },
        {
          "output_type": "display_data",
          "data": {
            "text/plain": [
              "<Figure size 432x288 with 1 Axes>"
            ],
            "image/png": "[encoded data removed]"
          },
          "metadata": {
            "needs_background": "light"
          }
        }
      ]
    },
    {
      "cell_type": "code",
      "source": [
        ""
      ],
      "metadata": {
        "id": "_7BO87iS7uGj"
      },
      "execution_count": null,
      "outputs": []
    },
    {
      "cell_type": "code",
      "source": [
        "#X = torch.rand(1, 28, 28, device=device)\n",
        "X = im\n",
        "logits = model(X)"
      ],
      "metadata": {
        "id": "2SeTwQpFJCIX"
      },
      "execution_count": null,
      "outputs": []
    },
    {
      "cell_type": "code",
      "source": [
        "X.shape"
      ],
      "metadata": {
        "colab": {
          "base_uri": "https://localhost:8080/"
        },
        "id": "UbAgQ0-sJMMZ",
        "outputId": "40026c1a-479d-498f-f62d-3e4a997efabe"
      },
      "execution_count": null,
      "outputs": [
        {
          "output_type": "execute_result",
          "data": {
            "text/plain": [
              "torch.Size([1, 28, 28])"
            ]
          },
          "metadata": {},
          "execution_count": 43
        }
      ]
    },
    {
      "cell_type": "code",
      "source": [
        "logits.shape"
      ],
      "metadata": {
        "colab": {
          "base_uri": "https://localhost:8080/"
        },
        "id": "tGLo-F2bJQUB",
        "outputId": "002c8c4b-22b6-44d6-d003-941983ecfa63"
      },
      "execution_count": null,
      "outputs": [
        {
          "output_type": "execute_result",
          "data": {
            "text/plain": [
              "torch.Size([1, 10])"
            ]
          },
          "metadata": {},
          "execution_count": 44
        }
      ]
    },
    {
      "cell_type": "code",
      "metadata": {
        "colab": {
          "base_uri": "https://localhost:8080/"
        },
        "id": "NUTndKsY0CUR",
        "outputId": "4fc72018-c3f3-4e50-b12a-6bee11044391"
      },
      "source": [
        "X = torch.rand(3, 28, 28, device=device)\n",
        "logits = model(X)\n",
        "\n",
        "softmax = nn.Softmax(dim=1)\n",
        "\n",
        "pred_probab = softmax(logits)\n",
        "y_pred = pred_probab.argmax(1)\n",
        "print(f\"Predicted class: {y_pred}\")"
      ],
      "execution_count": null,
      "outputs": [
        {
          "output_type": "stream",
          "name": "stdout",
          "text": [
            "Predicted class: tensor([5, 5, 5])\n"
          ]
        }
      ]
    },
    {
      "cell_type": "code",
      "source": [
        "plot(logits.detach().numpy().T)"
      ],
      "metadata": {
        "colab": {
          "base_uri": "https://localhost:8080/",
          "height": 320
        },
        "id": "QTRdIi6nK4r6",
        "outputId": "f4fd9955-9475-4d72-d828-deab8ae2bc90"
      },
      "execution_count": null,
      "outputs": [
        {
          "output_type": "execute_result",
          "data": {
            "text/plain": [
              "[<matplotlib.lines.Line2D at 0x7d4db5f34430>,\n",
              " <matplotlib.lines.Line2D at 0x7d4db5f34be0>,\n",
              " <matplotlib.lines.Line2D at 0x7d4db5f34a90>]"
            ]
          },
          "metadata": {},
          "execution_count": 46
        },
        {
          "output_type": "display_data",
          "data": {
            "text/plain": [
              "<Figure size 432x288 with 1 Axes>"
            ],
            "image/png": "[encoded data removed]"
          },
          "metadata": {
            "needs_background": "light"
          }
        }
      ]
    },
    {
      "cell_type": "code",
      "source": [
        "\n",
        "plot(pred_probab.detach().numpy().T)"
      ],
      "metadata": {
        "colab": {
          "base_uri": "https://localhost:8080/",
          "height": 320
        },
        "id": "qv9-AHjzKu7Q",
        "outputId": "8f7ec92e-0fd8-4bc1-9c46-10307ccf71ce"
      },
      "execution_count": null,
      "outputs": [
        {
          "output_type": "execute_result",
          "data": {
            "text/plain": [
              "[<matplotlib.lines.Line2D at 0x7d4db5c91130>,\n",
              " <matplotlib.lines.Line2D at 0x7d4db5c91370>,\n",
              " <matplotlib.lines.Line2D at 0x7d4db5c91310>]"
            ]
          },
          "metadata": {},
          "execution_count": 47
        },
        {
          "output_type": "display_data",
          "data": {
            "text/plain": [
              "<Figure size 432x288 with 1 Axes>"
            ],
            "image/png": "[encoded data removed]"
          },
          "metadata": {
            "needs_background": "light"
          }
        }
      ]
    },
    {
      "cell_type": "code",
      "source": [
        ""
      ],
      "metadata": {
        "id": "7Jt8TZ6lKzir"
      },
      "execution_count": null,
      "outputs": []
    },
    {
      "cell_type": "markdown",
      "metadata": {
        "id": "r3nPgB_c1Caq"
      },
      "source": [
        "## Convolutional Neural Networks\n",
        "\n",
        "In this section, we will walk through the implementation of a simple convolutional neural network (CNN), LeNet, in PyTorch. This is based on PyTorch tutorials, and a more in-depth discussion can be found [here](https://pytorch.org/tutorials/beginner/blitz/neural_networks_tutorial.html).\n",
        "\n",
        "First, we import our dependencies.\n",
        "\n",
        "![alt text](https://analyticsindiamag.com/wp-content/uploads/2018/01/conv-full-layer.gif)"
      ]
    },
    {
      "cell_type": "code",
      "metadata": {
        "id": "w4BuNj6g5Ay8"
      },
      "source": [
        "import torch\n",
        "import torch.nn as nn\n",
        "import torch.nn.functional as F"
      ],
      "execution_count": null,
      "outputs": []
    },
    {
      "cell_type": "markdown",
      "metadata": {
        "id": "1Kq4mn-7-3mG"
      },
      "source": [
        "To create a CNN, we need two main building blocks in addition to simple feed forward layers and nonlinearities (discussed above). First, we'll need to create convolutions with `torch.nn.Conv2d(...)`. A simple example can be seen here:"
      ]
    },
    {
      "cell_type": "code",
      "metadata": {
        "id": "hJwxCsvT-8H7"
      },
      "source": [
        "m = nn.Conv2d(in_channels = 2,  \n",
        "              out_channels = 3,\n",
        "              kernel_size = (3,3),\n",
        "              stride = 2)"
      ],
      "execution_count": null,
      "outputs": []
    },
    {
      "cell_type": "markdown",
      "metadata": {
        "id": "lMWafPNkANVo"
      },
      "source": [
        "This layer is randomly initialized, so we don't expect a meaningful output. However, we can test that it works by inputting a simple 2 channel, 3x3 input:"
      ]
    },
    {
      "cell_type": "code",
      "metadata": {
        "colab": {
          "base_uri": "https://localhost:8080/"
        },
        "id": "OQGK-KVy_SKP",
        "outputId": "68020281-b190-41e3-a7c4-7048a1fcf9b0"
      },
      "source": [
        "# shape : (num, in_chan, x,y)\n",
        "input = torch.randn(10, 2, 15, 15)\n",
        "output = m(input)\n",
        "print(output.shape, (15-3+2)/2)"
      ],
      "execution_count": null,
      "outputs": [
        {
          "output_type": "stream",
          "name": "stdout",
          "text": [
            "torch.Size([10, 3, 7, 7]) 7.0\n"
          ]
        }
      ]
    },
    {
      "cell_type": "markdown",
      "metadata": {
        "id": "G_igrCXAAyIP"
      },
      "source": [
        "We also need to perform pooling operations using `torch.nn.MaxPool2d(...)`. Again, we can generate a simple example to test the layer:\n",
        "\n",
        "![alt text](https://computersciencewiki.org/images/8/8a/MaxpoolSample2.png)"
      ]
    },
    {
      "cell_type": "code",
      "metadata": {
        "id": "dSqX63PIBnR5"
      },
      "source": [
        "p = nn.MaxPool2d(kernel_size = 2,  # Kernel assumed square if single integer\n",
        "                 stride = 2)"
      ],
      "execution_count": null,
      "outputs": []
    },
    {
      "cell_type": "markdown",
      "metadata": {
        "id": "1c4wqu2sCkdd"
      },
      "source": [
        "Once the layer is created, we can again test it by applying it to a simple 4x4 input matrix. "
      ]
    },
    {
      "cell_type": "code",
      "metadata": {
        "colab": {
          "base_uri": "https://localhost:8080/"
        },
        "id": "jO4oEg1FChhs",
        "outputId": "4599d336-87ef-46a7-abdb-efcfb20587ee"
      },
      "source": [
        "input = torch.randn(1, 1, 4, 4)\n",
        "output = p(input)\n",
        "print(output)"
      ],
      "execution_count": null,
      "outputs": [
        {
          "output_type": "stream",
          "name": "stdout",
          "text": [
            "tensor([[[[1.9321, 0.2124],\n",
            "          [1.0778, 0.6005]]]])\n"
          ]
        }
      ]
    },
    {
      "cell_type": "markdown",
      "metadata": {
        "id": "mdv11Ldt5V49"
      },
      "source": [
        "With these layers in hand, we can combine them to create a CNN! We first create a class to define our network. Here, `__init__(...)` defines the layers in the network (and their respective parameters), and `forward(...)` puts those layers in their appropriate order so PyTorch can train the network."
      ]
    },
    {
      "cell_type": "markdown",
      "source": [
        "## LeNet\n",
        "\n",
        "![alt text](https://upload.wikimedia.org/wikipedia/commons/thumb/2/22/Yann_LeCun_-_2018_%28cropped%29.jpg/220px-Yann_LeCun_-_2018_%28cropped%29.jpg) ![alt text](https://encrypted-tbn0.gstatic.com/images?q=tbn:ANd9GcQ-OuLMZaQO4uCodyv42NSfSeGUgbPdL2mW4imLpPmGn_uS2paxOr8rDDjAObzxwSUkd7M&usqp=CAU)\n",
        "\n",
        "\n",
        "![alt text](https://d2l.ai/_images/lenet.svg)\n",
        "<!-- ![](https://cdn.analyticsvidhya.com/wp-content/uploads/2021/03/Screenshot-from-2021-03-18-12-52-17.png) -->"
      ],
      "metadata": {
        "id": "W9S3Jss7A_OQ"
      }
    },
    {
      "cell_type": "code",
      "source": [
        ""
      ],
      "metadata": {
        "id": "MolMaS9lFMtX"
      },
      "execution_count": null,
      "outputs": []
    },
    {
      "cell_type": "markdown",
      "source": [
        "### First Implementation\n",
        "Kind of conpact, but maybe hard to parse."
      ],
      "metadata": {
        "id": "jMoaBSm_FO-c"
      }
    },
    {
      "cell_type": "code",
      "metadata": {
        "colab": {
          "base_uri": "https://localhost:8080/"
        },
        "id": "-EETogK-W9X9",
        "outputId": "16195e2a-35d6-4ff6-cd2c-ca359e48d1ea"
      },
      "source": [
        "class LeNet(nn.Module):\n",
        "    def __init__(self):\n",
        "        super(LeNet, self).__init__()\n",
        "        #-- Define the convolution layers.\n",
        "        self.conv1 = nn.Conv2d(1, 6, 5)\n",
        "        self.conv2 = nn.Conv2d(6, 16, 5)\n",
        "        #-- Define three feed-forward layers.\n",
        "        # Each applies affine operation: y = Wx + b\n",
        "        self.fc1 = nn.Linear(16 * 4 * 4, 120)  # 4x4 from image dimension\n",
        "        self.fc2 = nn.Linear(120, 84)\n",
        "        self.fc3 = nn.Linear(84, 10)\n",
        "\n",
        "    def forward(self, x):\n",
        "        #-- Apply convolution, then relu nonlinearity, then max pooling over a\n",
        "        # (2, 2) window\n",
        "        x = F.max_pool2d(F.relu(self.conv1(x)), (2, 2))\n",
        "        x = F.max_pool2d(F.relu(self.conv2(x)), 2)\n",
        "        # Flatten all dimensions except the batch dimension\n",
        "        x = torch.flatten(x, 1) \n",
        "        # Run flattened `x` through three fully connected layers with \n",
        "        # nonlinearities\n",
        "        x = F.relu(self.fc1(x))\n",
        "        x = F.relu(self.fc2(x))\n",
        "        x = self.fc3(x)\n",
        "        return x\n",
        "\n",
        "# Create the network, and print its parameters.\n",
        "net = LeNet()\n",
        "print(net)"
      ],
      "execution_count": null,
      "outputs": [
        {
          "output_type": "stream",
          "name": "stdout",
          "text": [
            "LeNet(\n",
            "  (conv1): Conv2d(1, 6, kernel_size=(5, 5), stride=(1, 1))\n",
            "  (conv2): Conv2d(6, 16, kernel_size=(5, 5), stride=(1, 1))\n",
            "  (fc1): Linear(in_features=400, out_features=120, bias=True)\n",
            "  (fc2): Linear(in_features=120, out_features=84, bias=True)\n",
            "  (fc3): Linear(in_features=84, out_features=10, bias=True)\n",
            ")\n"
          ]
        }
      ]
    },
    {
      "cell_type": "markdown",
      "source": [
        "### Second Implementaion"
      ],
      "metadata": {
        "id": "sQwmHpf7Fi5e"
      }
    },
    {
      "cell_type": "code",
      "metadata": {
        "colab": {
          "base_uri": "https://localhost:8080/"
        },
        "outputId": "c59abf60-6b60-4ff5-f930-1b3413014967",
        "id": "XeOxjzKq93hl"
      },
      "source": [
        "class LeNet(nn.Module):\n",
        "    def __init__(self):\n",
        "        super(LeNet, self).__init__()\n",
        "        #-- Define the convolution layers.\n",
        "        self.conv_stack = nn.Sequential(\n",
        "                    nn.Conv2d(1, 6, 5),\n",
        "                    nn.ReLU(),\n",
        "                    nn.MaxPool2d(2),\n",
        "                    nn.Conv2d(6, 16, 5),\n",
        "                    nn.ReLU(),\n",
        "                    nn.MaxPool2d(2),\n",
        "        )\n",
        "        self.flatten = nn.Flatten(1)\n",
        "        #-- Define three feed-forward layers.\n",
        "        # Each applies affine operation: y = Wx + b\n",
        "        self.fc_stack = nn.Sequential(\n",
        "              nn.Linear(16 * 4 * 4, 120), # 4x4 from image dimension (see below)\n",
        "              nn.ReLU(),\n",
        "              nn.Linear(120, 84),\n",
        "              nn.ReLU(),\n",
        "              nn.Linear(84, 10),\n",
        "              nn.LogSoftmax(dim=-1),     \n",
        "        )\n",
        "\n",
        "    def forward(self, x):\n",
        "        #-- Apply convolution, then relu nonlinearity, then max pooling over a\n",
        "        # (2, 2) window\n",
        "        x = self.conv_stack(x)\n",
        "        # Flatten all dimensions except the batch dimension\n",
        "        x = self.flatten(x) \n",
        "        # Run flattened `x` through three fully connected layers with \n",
        "        # nonlinearities\n",
        "        x = self.fc_stack(x) \n",
        "\n",
        "        return x\n",
        "\n",
        "# Create the network, and print its parameters.\n",
        "net = LeNet()\n",
        "print(net)"
      ],
      "execution_count": null,
      "outputs": [
        {
          "output_type": "stream",
          "name": "stdout",
          "text": [
            "LeNet(\n",
            "  (conv_stack): Sequential(\n",
            "    (0): Conv2d(1, 6, kernel_size=(5, 5), stride=(1, 1))\n",
            "    (1): ReLU()\n",
            "    (2): MaxPool2d(kernel_size=2, stride=2, padding=0, dilation=1, ceil_mode=False)\n",
            "    (3): Conv2d(6, 16, kernel_size=(5, 5), stride=(1, 1))\n",
            "    (4): ReLU()\n",
            "    (5): MaxPool2d(kernel_size=2, stride=2, padding=0, dilation=1, ceil_mode=False)\n",
            "  )\n",
            "  (flatten): Flatten(start_dim=1, end_dim=-1)\n",
            "  (fc_stack): Sequential(\n",
            "    (0): Linear(in_features=256, out_features=120, bias=True)\n",
            "    (1): ReLU()\n",
            "    (2): Linear(in_features=120, out_features=84, bias=True)\n",
            "    (3): ReLU()\n",
            "    (4): Linear(in_features=84, out_features=10, bias=True)\n",
            "    (5): LogSoftmax(dim=-1)\n",
            "  )\n",
            ")\n"
          ]
        }
      ]
    },
    {
      "cell_type": "code",
      "source": [
        "im, label = train_loader.dataset[0]\n",
        "imshow(im[0])\n",
        "title(label)\n",
        "print(im.shape)"
      ],
      "metadata": {
        "colab": {
          "base_uri": "https://localhost:8080/",
          "height": 299
        },
        "outputId": "238197f1-37b5-4a7b-c0f1-7a4a6b7b8b9f",
        "id": "Rz6liFQU_zxz"
      },
      "execution_count": null,
      "outputs": [
        {
          "output_type": "stream",
          "name": "stdout",
          "text": [
            "torch.Size([1, 28, 28])\n"
          ]
        },
        {
          "output_type": "display_data",
          "data": {
            "text/plain": [
              "<Figure size 432x288 with 1 Axes>"
            ],
            "image/png": "[encoded data removed]"
          },
          "metadata": {
            "needs_background": "light"
          }
        }
      ]
    },
    {
      "cell_type": "code",
      "source": [
        ""
      ],
      "metadata": {
        "id": "ffj9fN6u_zx0"
      },
      "execution_count": null,
      "outputs": []
    },
    {
      "cell_type": "markdown",
      "source": [
        "### Tip: use data to figure out dimensions\n",
        "when you want to pass the data to the FC (nn.Linear) layers you need to flatten the output of the convolutional layers. \n",
        "The size of this flattened vector determines the input size of the FC layer. \n",
        "Since convolution (without zero padding) and Maxpool change the size of the array, it may be tedious to calculate the size of the output, and hence input size for the FC layer. \n",
        "It is easier to simply pass some of your data through the conv layers and check the output size"
      ],
      "metadata": {
        "id": "Zw6D4T7TChjM"
      }
    },
    {
      "cell_type": "code",
      "source": [
        "conv_out = net.conv_stack(im[newaxis]) # newaxis added as first index: (chan,height,width) --> (1,chan,height,width)\n",
        "print(\"shape:\", conv_out.shape)\n",
        "print(\"flattened size:\" ,np.prod(conv_out.shape))"
      ],
      "metadata": {
        "colab": {
          "base_uri": "https://localhost:8080/"
        },
        "id": "FheR95ov_bA6",
        "outputId": "b08b4d4a-453c-47c7-face-a285d2e25b80"
      },
      "execution_count": null,
      "outputs": [
        {
          "output_type": "stream",
          "name": "stdout",
          "text": [
            "shape: torch.Size([1, 16, 4, 4])\n",
            "flattened size: 256\n"
          ]
        }
      ]
    },
    {
      "cell_type": "code",
      "source": [
        "p = list(net.parameters())"
      ],
      "metadata": {
        "id": "17zz31DP-8OX"
      },
      "execution_count": null,
      "outputs": []
    },
    {
      "cell_type": "code",
      "source": [
        "p[-2].shape"
      ],
      "metadata": {
        "colab": {
          "base_uri": "https://localhost:8080/"
        },
        "id": "Y7lFfEtZ-_ts",
        "outputId": "c6d85acf-37a2-4773-f7a6-ec6378a09b12"
      },
      "execution_count": null,
      "outputs": [
        {
          "output_type": "execute_result",
          "data": {
            "text/plain": [
              "torch.Size([10, 84])"
            ]
          },
          "metadata": {},
          "execution_count": 102
        }
      ]
    },
    {
      "cell_type": "code",
      "source": [
        ""
      ],
      "metadata": {
        "id": "cMxkZk6m9zl5"
      },
      "execution_count": null,
      "outputs": []
    },
    {
      "cell_type": "markdown",
      "metadata": {
        "id": "dHdMCZpf-ShV"
      },
      "source": [
        "We can then put a test input (28x28 matrix) through the network to verify it works:"
      ]
    },
    {
      "cell_type": "code",
      "metadata": {
        "colab": {
          "base_uri": "https://localhost:8080/"
        },
        "id": "84yGlCFl-X-M",
        "outputId": "4b570332-59d8-465c-f874-0dc3f0418333"
      },
      "source": [
        "# input = torch.randn(1, 1, 32, 32)\n",
        "im, label = train_loader.dataset[0]\n",
        "out = net(im[newaxis])\n",
        "print(out)"
      ],
      "execution_count": null,
      "outputs": [
        {
          "output_type": "stream",
          "name": "stdout",
          "text": [
            "tensor([[-2.3146, -2.3472, -2.3898, -2.2820, -2.3242, -2.3491, -2.2795, -2.2025,\n",
            "         -2.2960, -2.2539]], grad_fn=<LogSoftmaxBackward0>)\n"
          ]
        }
      ]
    },
    {
      "cell_type": "markdown",
      "metadata": {
        "id": "oOX0b4zEGAIx"
      },
      "source": [
        "To train this network, we first define a loss function as discussed above:"
      ]
    },
    {
      "cell_type": "code",
      "metadata": {
        "id": "4fPtI4Q4GD9r"
      },
      "source": [
        "# criterion = nn.MSELoss()\n",
        "criterion = nn.NLLLoss()"
      ],
      "execution_count": null,
      "outputs": []
    },
    {
      "cell_type": "code",
      "source": [
        "label"
      ],
      "metadata": {
        "colab": {
          "base_uri": "https://localhost:8080/"
        },
        "id": "zpabBmHJGt7r",
        "outputId": "2b24274a-0307-464e-a5dc-829e777d3dbb"
      },
      "execution_count": null,
      "outputs": [
        {
          "output_type": "execute_result",
          "data": {
            "text/plain": [
              "6"
            ]
          },
          "metadata": {},
          "execution_count": 109
        }
      ]
    },
    {
      "cell_type": "code",
      "source": [
        "criterion(out, torch.tensor([label]))"
      ],
      "metadata": {
        "colab": {
          "base_uri": "https://localhost:8080/"
        },
        "id": "2GO3ISn9Gmkp",
        "outputId": "6509d827-cb59-434a-f9eb-a90f8f039e8b"
      },
      "execution_count": null,
      "outputs": [
        {
          "output_type": "execute_result",
          "data": {
            "text/plain": [
              "tensor(2.2795, grad_fn=<NllLossBackward0>)"
            ]
          },
          "metadata": {},
          "execution_count": 110
        }
      ]
    },
    {
      "cell_type": "markdown",
      "metadata": {
        "id": "BglyD0IbGMuq"
      },
      "source": [
        "While we can manually perform stochastic gradient descent (SGD) by calculating gradients,\n",
        "\n",
        "`weight = weight - learning_rate * gradient`\n",
        "\n",
        "PyTorch provides the `torch.optim` package that allows the user to easily switch between different optimization methods:"
      ]
    },
    {
      "cell_type": "code",
      "metadata": {
        "id": "U_wMcSS9HcQj"
      },
      "source": [
        "import torch.optim as optim\n",
        "\n",
        "# Create SGD optimizer\n",
        "optimizer = optim.SGD(net.parameters(), lr=0.01)  "
      ],
      "execution_count": null,
      "outputs": []
    },
    {
      "cell_type": "code",
      "metadata": {
        "id": "aWGtaUTrCscO"
      },
      "source": [
        "def fit(epochs, lr, model, train_loader, criterion, opt, validation_loader):\n",
        "  optimizer = opt\n",
        "  train_losses = []\n",
        "  training_loss = []\n",
        "  validation_loss = []\n",
        "  accuracy = []\n",
        "\n",
        "  for epoch in range(epochs):\n",
        "    training_loss = []\n",
        "    for index, (data, labels) in enumerate(train_loader):\n",
        "      # Giving data to cuda\n",
        "      data = data.reshape(data.size(0), -1).to(device=device)\n",
        "      labels = labels.to(device=device)\n",
        "      # forward pass\n",
        "      y_hat = model(data)\n",
        "      loss = criterion(y_hat, labels)\n",
        "      training_loss.append(loss)\n",
        "\n",
        "      # backward pass\n",
        "      loss.backward()\n",
        "\n",
        "      # gradient descent\n",
        "      optimizer.step()\n",
        "      optimizer.zero_grad()\n",
        "    avg_validation_loss = torch.stack(get_validation_loss(validation_loader, criterion, model)).mean().item()\n",
        "    avg_training_loss = torch.stack(training_loss).mean().item()\n",
        "    train_losses.append(avg_training_loss)\n",
        "    validation_loss.append(avg_validation_loss)\n",
        "    print (f'Epoch [{epoch+1}/{epochs}]: The training loss is {avg_training_loss:.4f} & validation loss is {avg_validation_loss:.4f}')\n",
        "  return train_losses, validation_loss\n"
      ],
      "execution_count": null,
      "outputs": []
    },
    {
      "cell_type": "markdown",
      "metadata": {
        "id": "eOLUYVqTzWkT"
      },
      "source": [
        "We will also create a function which will compute the validation loss from the validation set:"
      ]
    },
    {
      "cell_type": "code",
      "metadata": {
        "id": "ORNLVks_zccD"
      },
      "source": [
        "@torch.no_grad()\n",
        "def get_validation_loss(validation_loader, criterion, model):\n",
        "  validation_loss = []\n",
        "  for index, (data, labels) in enumerate(validation_loader):\n",
        "     # Giving data to cuda\n",
        "      data = data.reshape(data.size(0), -1).to(device=device)\n",
        "      labels = labels.to(device=device)\n",
        "      # forward pass\n",
        "      y_hat = model(data)\n",
        "      loss = criterion(y_hat, labels)\n",
        "      validation_loss.append(loss)\n",
        "  return validation_loss"
      ],
      "execution_count": null,
      "outputs": []
    },
    {
      "cell_type": "markdown",
      "metadata": {
        "id": "2ARvv577zwbw"
      },
      "source": [
        "Below calls the fit function using our hyperparameters, model, the Cross Entropy Loss, and Adam as the optimizer:"
      ]
    },
    {
      "cell_type": "code",
      "metadata": {
        "colab": {
          "base_uri": "https://localhost:8080/",
          "height": 451
        },
        "id": "M3ZVEA2vzDe-",
        "outputId": "d72b5262-0347-4e5c-f50b-15673fb4f4de"
      },
      "source": [
        "train_loss, val_loss = fit(num_epochs, eta, model, train_loader, \n",
        "                           nn.CrossEntropyLoss(), torch.optim.Adam(model.parameters(), lr=eta), \n",
        "                           validation_loader)"
      ],
      "execution_count": null,
      "outputs": [
        {
          "output_type": "stream",
          "name": "stdout",
          "text": [
            "Epoch [1/20]: The training loss is 0.8123 & validation loss is 0.4225\n",
            "Epoch [2/20]: The training loss is 0.3488 & validation loss is 0.3248\n",
            "Epoch [3/20]: The training loss is 0.3009 & validation loss is 0.3004\n",
            "Epoch [4/20]: The training loss is 0.2795 & validation loss is 0.2825\n",
            "Epoch [5/20]: The training loss is 0.2662 & validation loss is 0.2849\n",
            "Epoch [6/20]: The training loss is 0.2572 & validation loss is 0.2698\n"
          ]
        },
        {
          "output_type": "error",
          "ename": "KeyboardInterrupt",
          "evalue": "ignored",
          "traceback": [
            "\u001b[0;31m---------------------------------------------------------------------------\u001b[0m",
            "\u001b[0;31mKeyboardInterrupt\u001b[0m                         Traceback (most recent call last)",
            "\u001b[0;32m<ipython-input-47-cfd2055a9822>\u001b[0m in \u001b[0;36m<module>\u001b[0;34m()\u001b[0m\n\u001b[1;32m      1\u001b[0m train_loss, val_loss = fit(num_epochs, eta, model, train_loader, \n\u001b[1;32m      2\u001b[0m                            \u001b[0mnn\u001b[0m\u001b[0;34m.\u001b[0m\u001b[0mCrossEntropyLoss\u001b[0m\u001b[0;34m(\u001b[0m\u001b[0;34m)\u001b[0m\u001b[0;34m,\u001b[0m \u001b[0mtorch\u001b[0m\u001b[0;34m.\u001b[0m\u001b[0moptim\u001b[0m\u001b[0;34m.\u001b[0m\u001b[0mAdam\u001b[0m\u001b[0;34m(\u001b[0m\u001b[0mmodel\u001b[0m\u001b[0;34m.\u001b[0m\u001b[0mparameters\u001b[0m\u001b[0;34m(\u001b[0m\u001b[0;34m)\u001b[0m\u001b[0;34m,\u001b[0m \u001b[0mlr\u001b[0m\u001b[0;34m=\u001b[0m\u001b[0meta\u001b[0m\u001b[0;34m)\u001b[0m\u001b[0;34m,\u001b[0m\u001b[0;34m\u001b[0m\u001b[0;34m\u001b[0m\u001b[0m\n\u001b[0;32m----> 3\u001b[0;31m                            validation_loader)\n\u001b[0m",
            "\u001b[0;32m<ipython-input-45-db20ec3ff438>\u001b[0m in \u001b[0;36mfit\u001b[0;34m(epochs, lr, model, train_loader, criterion, opt, validation_loader)\u001b[0m\n\u001b[1;32m      8\u001b[0m   \u001b[0;32mfor\u001b[0m \u001b[0mepoch\u001b[0m \u001b[0;32min\u001b[0m \u001b[0mrange\u001b[0m\u001b[0;34m(\u001b[0m\u001b[0mepochs\u001b[0m\u001b[0;34m)\u001b[0m\u001b[0;34m:\u001b[0m\u001b[0;34m\u001b[0m\u001b[0;34m\u001b[0m\u001b[0m\n\u001b[1;32m      9\u001b[0m     \u001b[0mtraining_loss\u001b[0m \u001b[0;34m=\u001b[0m \u001b[0;34m[\u001b[0m\u001b[0;34m]\u001b[0m\u001b[0;34m\u001b[0m\u001b[0;34m\u001b[0m\u001b[0m\n\u001b[0;32m---> 10\u001b[0;31m     \u001b[0;32mfor\u001b[0m \u001b[0mindex\u001b[0m\u001b[0;34m,\u001b[0m \u001b[0;34m(\u001b[0m\u001b[0mdata\u001b[0m\u001b[0;34m,\u001b[0m \u001b[0mlabels\u001b[0m\u001b[0;34m)\u001b[0m \u001b[0;32min\u001b[0m \u001b[0menumerate\u001b[0m\u001b[0;34m(\u001b[0m\u001b[0mtrain_loader\u001b[0m\u001b[0;34m)\u001b[0m\u001b[0;34m:\u001b[0m\u001b[0;34m\u001b[0m\u001b[0;34m\u001b[0m\u001b[0m\n\u001b[0m\u001b[1;32m     11\u001b[0m       \u001b[0;31m# Giving data to cuda\u001b[0m\u001b[0;34m\u001b[0m\u001b[0;34m\u001b[0m\u001b[0;34m\u001b[0m\u001b[0m\n\u001b[1;32m     12\u001b[0m       \u001b[0mdata\u001b[0m \u001b[0;34m=\u001b[0m \u001b[0mdata\u001b[0m\u001b[0;34m.\u001b[0m\u001b[0mreshape\u001b[0m\u001b[0;34m(\u001b[0m\u001b[0mdata\u001b[0m\u001b[0;34m.\u001b[0m\u001b[0msize\u001b[0m\u001b[0;34m(\u001b[0m\u001b[0;36m0\u001b[0m\u001b[0;34m)\u001b[0m\u001b[0;34m,\u001b[0m \u001b[0;34m-\u001b[0m\u001b[0;36m1\u001b[0m\u001b[0;34m)\u001b[0m\u001b[0;34m.\u001b[0m\u001b[0mto\u001b[0m\u001b[0;34m(\u001b[0m\u001b[0mdevice\u001b[0m\u001b[0;34m=\u001b[0m\u001b[0mdevice\u001b[0m\u001b[0;34m)\u001b[0m\u001b[0;34m\u001b[0m\u001b[0;34m\u001b[0m\u001b[0m\n",
            "\u001b[0;32m/usr/local/lib/python3.7/dist-packages/torch/utils/data/dataloader.py\u001b[0m in \u001b[0;36m__next__\u001b[0;34m(self)\u001b[0m\n\u001b[1;32m    519\u001b[0m             \u001b[0;32mif\u001b[0m \u001b[0mself\u001b[0m\u001b[0;34m.\u001b[0m\u001b[0m_sampler_iter\u001b[0m \u001b[0;32mis\u001b[0m \u001b[0;32mNone\u001b[0m\u001b[0;34m:\u001b[0m\u001b[0;34m\u001b[0m\u001b[0;34m\u001b[0m\u001b[0m\n\u001b[1;32m    520\u001b[0m                 \u001b[0mself\u001b[0m\u001b[0;34m.\u001b[0m\u001b[0m_reset\u001b[0m\u001b[0;34m(\u001b[0m\u001b[0;34m)\u001b[0m\u001b[0;34m\u001b[0m\u001b[0;34m\u001b[0m\u001b[0m\n\u001b[0;32m--> 521\u001b[0;31m             \u001b[0mdata\u001b[0m \u001b[0;34m=\u001b[0m \u001b[0mself\u001b[0m\u001b[0;34m.\u001b[0m\u001b[0m_next_data\u001b[0m\u001b[0;34m(\u001b[0m\u001b[0;34m)\u001b[0m\u001b[0;34m\u001b[0m\u001b[0;34m\u001b[0m\u001b[0m\n\u001b[0m\u001b[1;32m    522\u001b[0m             \u001b[0mself\u001b[0m\u001b[0;34m.\u001b[0m\u001b[0m_num_yielded\u001b[0m \u001b[0;34m+=\u001b[0m \u001b[0;36m1\u001b[0m\u001b[0;34m\u001b[0m\u001b[0;34m\u001b[0m\u001b[0m\n\u001b[1;32m    523\u001b[0m             \u001b[0;32mif\u001b[0m \u001b[0mself\u001b[0m\u001b[0;34m.\u001b[0m\u001b[0m_dataset_kind\u001b[0m \u001b[0;34m==\u001b[0m \u001b[0m_DatasetKind\u001b[0m\u001b[0;34m.\u001b[0m\u001b[0mIterable\u001b[0m \u001b[0;32mand\u001b[0m\u001b[0;31m \u001b[0m\u001b[0;31m\\\u001b[0m\u001b[0;34m\u001b[0m\u001b[0;34m\u001b[0m\u001b[0m\n",
            "\u001b[0;32m/usr/local/lib/python3.7/dist-packages/torch/utils/data/dataloader.py\u001b[0m in \u001b[0;36m_next_data\u001b[0;34m(self)\u001b[0m\n\u001b[1;32m    559\u001b[0m     \u001b[0;32mdef\u001b[0m \u001b[0m_next_data\u001b[0m\u001b[0;34m(\u001b[0m\u001b[0mself\u001b[0m\u001b[0;34m)\u001b[0m\u001b[0;34m:\u001b[0m\u001b[0;34m\u001b[0m\u001b[0;34m\u001b[0m\u001b[0m\n\u001b[1;32m    560\u001b[0m         \u001b[0mindex\u001b[0m \u001b[0;34m=\u001b[0m \u001b[0mself\u001b[0m\u001b[0;34m.\u001b[0m\u001b[0m_next_index\u001b[0m\u001b[0;34m(\u001b[0m\u001b[0;34m)\u001b[0m  \u001b[0;31m# may raise StopIteration\u001b[0m\u001b[0;34m\u001b[0m\u001b[0;34m\u001b[0m\u001b[0m\n\u001b[0;32m--> 561\u001b[0;31m         \u001b[0mdata\u001b[0m \u001b[0;34m=\u001b[0m \u001b[0mself\u001b[0m\u001b[0;34m.\u001b[0m\u001b[0m_dataset_fetcher\u001b[0m\u001b[0;34m.\u001b[0m\u001b[0mfetch\u001b[0m\u001b[0;34m(\u001b[0m\u001b[0mindex\u001b[0m\u001b[0;34m)\u001b[0m  \u001b[0;31m# may raise StopIteration\u001b[0m\u001b[0;34m\u001b[0m\u001b[0;34m\u001b[0m\u001b[0m\n\u001b[0m\u001b[1;32m    562\u001b[0m         \u001b[0;32mif\u001b[0m \u001b[0mself\u001b[0m\u001b[0;34m.\u001b[0m\u001b[0m_pin_memory\u001b[0m\u001b[0;34m:\u001b[0m\u001b[0;34m\u001b[0m\u001b[0;34m\u001b[0m\u001b[0m\n\u001b[1;32m    563\u001b[0m             \u001b[0mdata\u001b[0m \u001b[0;34m=\u001b[0m \u001b[0m_utils\u001b[0m\u001b[0;34m.\u001b[0m\u001b[0mpin_memory\u001b[0m\u001b[0;34m.\u001b[0m\u001b[0mpin_memory\u001b[0m\u001b[0;34m(\u001b[0m\u001b[0mdata\u001b[0m\u001b[0;34m)\u001b[0m\u001b[0;34m\u001b[0m\u001b[0;34m\u001b[0m\u001b[0m\n",
            "\u001b[0;32m/usr/local/lib/python3.7/dist-packages/torch/utils/data/_utils/fetch.py\u001b[0m in \u001b[0;36mfetch\u001b[0;34m(self, possibly_batched_index)\u001b[0m\n\u001b[1;32m     47\u001b[0m     \u001b[0;32mdef\u001b[0m \u001b[0mfetch\u001b[0m\u001b[0;34m(\u001b[0m\u001b[0mself\u001b[0m\u001b[0;34m,\u001b[0m \u001b[0mpossibly_batched_index\u001b[0m\u001b[0;34m)\u001b[0m\u001b[0;34m:\u001b[0m\u001b[0;34m\u001b[0m\u001b[0;34m\u001b[0m\u001b[0m\n\u001b[1;32m     48\u001b[0m         \u001b[0;32mif\u001b[0m \u001b[0mself\u001b[0m\u001b[0;34m.\u001b[0m\u001b[0mauto_collation\u001b[0m\u001b[0;34m:\u001b[0m\u001b[0;34m\u001b[0m\u001b[0;34m\u001b[0m\u001b[0m\n\u001b[0;32m---> 49\u001b[0;31m             \u001b[0mdata\u001b[0m \u001b[0;34m=\u001b[0m \u001b[0;34m[\u001b[0m\u001b[0mself\u001b[0m\u001b[0;34m.\u001b[0m\u001b[0mdataset\u001b[0m\u001b[0;34m[\u001b[0m\u001b[0midx\u001b[0m\u001b[0;34m]\u001b[0m \u001b[0;32mfor\u001b[0m \u001b[0midx\u001b[0m \u001b[0;32min\u001b[0m \u001b[0mpossibly_batched_index\u001b[0m\u001b[0;34m]\u001b[0m\u001b[0;34m\u001b[0m\u001b[0;34m\u001b[0m\u001b[0m\n\u001b[0m\u001b[1;32m     50\u001b[0m         \u001b[0;32melse\u001b[0m\u001b[0;34m:\u001b[0m\u001b[0;34m\u001b[0m\u001b[0;34m\u001b[0m\u001b[0m\n\u001b[1;32m     51\u001b[0m             \u001b[0mdata\u001b[0m \u001b[0;34m=\u001b[0m \u001b[0mself\u001b[0m\u001b[0;34m.\u001b[0m\u001b[0mdataset\u001b[0m\u001b[0;34m[\u001b[0m\u001b[0mpossibly_batched_index\u001b[0m\u001b[0;34m]\u001b[0m\u001b[0;34m\u001b[0m\u001b[0;34m\u001b[0m\u001b[0m\n",
            "\u001b[0;32m/usr/local/lib/python3.7/dist-packages/torch/utils/data/_utils/fetch.py\u001b[0m in \u001b[0;36m<listcomp>\u001b[0;34m(.0)\u001b[0m\n\u001b[1;32m     47\u001b[0m     \u001b[0;32mdef\u001b[0m \u001b[0mfetch\u001b[0m\u001b[0;34m(\u001b[0m\u001b[0mself\u001b[0m\u001b[0;34m,\u001b[0m \u001b[0mpossibly_batched_index\u001b[0m\u001b[0;34m)\u001b[0m\u001b[0;34m:\u001b[0m\u001b[0;34m\u001b[0m\u001b[0;34m\u001b[0m\u001b[0m\n\u001b[1;32m     48\u001b[0m         \u001b[0;32mif\u001b[0m \u001b[0mself\u001b[0m\u001b[0;34m.\u001b[0m\u001b[0mauto_collation\u001b[0m\u001b[0;34m:\u001b[0m\u001b[0;34m\u001b[0m\u001b[0;34m\u001b[0m\u001b[0m\n\u001b[0;32m---> 49\u001b[0;31m             \u001b[0mdata\u001b[0m \u001b[0;34m=\u001b[0m \u001b[0;34m[\u001b[0m\u001b[0mself\u001b[0m\u001b[0;34m.\u001b[0m\u001b[0mdataset\u001b[0m\u001b[0;34m[\u001b[0m\u001b[0midx\u001b[0m\u001b[0;34m]\u001b[0m \u001b[0;32mfor\u001b[0m \u001b[0midx\u001b[0m \u001b[0;32min\u001b[0m \u001b[0mpossibly_batched_index\u001b[0m\u001b[0;34m]\u001b[0m\u001b[0;34m\u001b[0m\u001b[0;34m\u001b[0m\u001b[0m\n\u001b[0m\u001b[1;32m     50\u001b[0m         \u001b[0;32melse\u001b[0m\u001b[0;34m:\u001b[0m\u001b[0;34m\u001b[0m\u001b[0;34m\u001b[0m\u001b[0m\n\u001b[1;32m     51\u001b[0m             \u001b[0mdata\u001b[0m \u001b[0;34m=\u001b[0m \u001b[0mself\u001b[0m\u001b[0;34m.\u001b[0m\u001b[0mdataset\u001b[0m\u001b[0;34m[\u001b[0m\u001b[0mpossibly_batched_index\u001b[0m\u001b[0;34m]\u001b[0m\u001b[0;34m\u001b[0m\u001b[0;34m\u001b[0m\u001b[0m\n",
            "\u001b[0;32m/usr/local/lib/python3.7/dist-packages/torch/utils/data/dataset.py\u001b[0m in \u001b[0;36m__getitem__\u001b[0;34m(self, idx)\u001b[0m\n\u001b[1;32m    361\u001b[0m         \u001b[0;32mif\u001b[0m \u001b[0misinstance\u001b[0m\u001b[0;34m(\u001b[0m\u001b[0midx\u001b[0m\u001b[0;34m,\u001b[0m \u001b[0mlist\u001b[0m\u001b[0;34m)\u001b[0m\u001b[0;34m:\u001b[0m\u001b[0;34m\u001b[0m\u001b[0;34m\u001b[0m\u001b[0m\n\u001b[1;32m    362\u001b[0m             \u001b[0;32mreturn\u001b[0m \u001b[0mself\u001b[0m\u001b[0;34m.\u001b[0m\u001b[0mdataset\u001b[0m\u001b[0;34m[\u001b[0m\u001b[0;34m[\u001b[0m\u001b[0mself\u001b[0m\u001b[0;34m.\u001b[0m\u001b[0mindices\u001b[0m\u001b[0;34m[\u001b[0m\u001b[0mi\u001b[0m\u001b[0;34m]\u001b[0m \u001b[0;32mfor\u001b[0m \u001b[0mi\u001b[0m \u001b[0;32min\u001b[0m \u001b[0midx\u001b[0m\u001b[0;34m]\u001b[0m\u001b[0;34m]\u001b[0m\u001b[0;34m\u001b[0m\u001b[0;34m\u001b[0m\u001b[0m\n\u001b[0;32m--> 363\u001b[0;31m         \u001b[0;32mreturn\u001b[0m \u001b[0mself\u001b[0m\u001b[0;34m.\u001b[0m\u001b[0mdataset\u001b[0m\u001b[0;34m[\u001b[0m\u001b[0mself\u001b[0m\u001b[0;34m.\u001b[0m\u001b[0mindices\u001b[0m\u001b[0;34m[\u001b[0m\u001b[0midx\u001b[0m\u001b[0;34m]\u001b[0m\u001b[0;34m]\u001b[0m\u001b[0;34m\u001b[0m\u001b[0;34m\u001b[0m\u001b[0m\n\u001b[0m\u001b[1;32m    364\u001b[0m \u001b[0;34m\u001b[0m\u001b[0m\n\u001b[1;32m    365\u001b[0m     \u001b[0;32mdef\u001b[0m \u001b[0m__len__\u001b[0m\u001b[0;34m(\u001b[0m\u001b[0mself\u001b[0m\u001b[0;34m)\u001b[0m\u001b[0;34m:\u001b[0m\u001b[0;34m\u001b[0m\u001b[0;34m\u001b[0m\u001b[0m\n",
            "\u001b[0;32m/usr/local/lib/python3.7/dist-packages/torchvision/datasets/mnist.py\u001b[0m in \u001b[0;36m__getitem__\u001b[0;34m(self, index)\u001b[0m\n\u001b[1;32m    129\u001b[0m         \u001b[0;31m# doing this so that it is consistent with all other datasets\u001b[0m\u001b[0;34m\u001b[0m\u001b[0;34m\u001b[0m\u001b[0;34m\u001b[0m\u001b[0m\n\u001b[1;32m    130\u001b[0m         \u001b[0;31m# to return a PIL Image\u001b[0m\u001b[0;34m\u001b[0m\u001b[0;34m\u001b[0m\u001b[0;34m\u001b[0m\u001b[0m\n\u001b[0;32m--> 131\u001b[0;31m         \u001b[0mimg\u001b[0m \u001b[0;34m=\u001b[0m \u001b[0mImage\u001b[0m\u001b[0;34m.\u001b[0m\u001b[0mfromarray\u001b[0m\u001b[0;34m(\u001b[0m\u001b[0mimg\u001b[0m\u001b[0;34m.\u001b[0m\u001b[0mnumpy\u001b[0m\u001b[0;34m(\u001b[0m\u001b[0;34m)\u001b[0m\u001b[0;34m,\u001b[0m \u001b[0mmode\u001b[0m\u001b[0;34m=\u001b[0m\u001b[0;34m'L'\u001b[0m\u001b[0;34m)\u001b[0m\u001b[0;34m\u001b[0m\u001b[0;34m\u001b[0m\u001b[0m\n\u001b[0m\u001b[1;32m    132\u001b[0m \u001b[0;34m\u001b[0m\u001b[0m\n\u001b[1;32m    133\u001b[0m         \u001b[0;32mif\u001b[0m \u001b[0mself\u001b[0m\u001b[0;34m.\u001b[0m\u001b[0mtransform\u001b[0m \u001b[0;32mis\u001b[0m \u001b[0;32mnot\u001b[0m \u001b[0;32mNone\u001b[0m\u001b[0;34m:\u001b[0m\u001b[0;34m\u001b[0m\u001b[0;34m\u001b[0m\u001b[0m\n",
            "\u001b[0;32m/usr/local/lib/python3.7/dist-packages/PIL/Image.py\u001b[0m in \u001b[0;36mfromarray\u001b[0;34m(obj, mode)\u001b[0m\n\u001b[1;32m   2733\u001b[0m             \u001b[0mobj\u001b[0m \u001b[0;34m=\u001b[0m \u001b[0mobj\u001b[0m\u001b[0;34m.\u001b[0m\u001b[0mtostring\u001b[0m\u001b[0;34m(\u001b[0m\u001b[0;34m)\u001b[0m\u001b[0;34m\u001b[0m\u001b[0;34m\u001b[0m\u001b[0m\n\u001b[1;32m   2734\u001b[0m \u001b[0;34m\u001b[0m\u001b[0m\n\u001b[0;32m-> 2735\u001b[0;31m     \u001b[0;32mreturn\u001b[0m \u001b[0mfrombuffer\u001b[0m\u001b[0;34m(\u001b[0m\u001b[0mmode\u001b[0m\u001b[0;34m,\u001b[0m \u001b[0msize\u001b[0m\u001b[0;34m,\u001b[0m \u001b[0mobj\u001b[0m\u001b[0;34m,\u001b[0m \u001b[0;34m\"raw\"\u001b[0m\u001b[0;34m,\u001b[0m \u001b[0mrawmode\u001b[0m\u001b[0;34m,\u001b[0m \u001b[0;36m0\u001b[0m\u001b[0;34m,\u001b[0m \u001b[0;36m1\u001b[0m\u001b[0;34m)\u001b[0m\u001b[0;34m\u001b[0m\u001b[0;34m\u001b[0m\u001b[0m\n\u001b[0m\u001b[1;32m   2736\u001b[0m \u001b[0;34m\u001b[0m\u001b[0m\n\u001b[1;32m   2737\u001b[0m \u001b[0;34m\u001b[0m\u001b[0m\n",
            "\u001b[0;32m/usr/local/lib/python3.7/dist-packages/PIL/Image.py\u001b[0m in \u001b[0;36mfrombuffer\u001b[0;34m(mode, size, data, decoder_name, *args)\u001b[0m\n\u001b[1;32m   2668\u001b[0m             \u001b[0margs\u001b[0m \u001b[0;34m=\u001b[0m \u001b[0mmode\u001b[0m\u001b[0;34m,\u001b[0m \u001b[0;36m0\u001b[0m\u001b[0;34m,\u001b[0m \u001b[0;36m1\u001b[0m\u001b[0;34m\u001b[0m\u001b[0;34m\u001b[0m\u001b[0m\n\u001b[1;32m   2669\u001b[0m         \u001b[0;32mif\u001b[0m \u001b[0margs\u001b[0m\u001b[0;34m[\u001b[0m\u001b[0;36m0\u001b[0m\u001b[0;34m]\u001b[0m \u001b[0;32min\u001b[0m \u001b[0m_MAPMODES\u001b[0m\u001b[0;34m:\u001b[0m\u001b[0;34m\u001b[0m\u001b[0;34m\u001b[0m\u001b[0m\n\u001b[0;32m-> 2670\u001b[0;31m             \u001b[0mim\u001b[0m \u001b[0;34m=\u001b[0m \u001b[0mnew\u001b[0m\u001b[0;34m(\u001b[0m\u001b[0mmode\u001b[0m\u001b[0;34m,\u001b[0m \u001b[0;34m(\u001b[0m\u001b[0;36m1\u001b[0m\u001b[0;34m,\u001b[0m \u001b[0;36m1\u001b[0m\u001b[0;34m)\u001b[0m\u001b[0;34m)\u001b[0m\u001b[0;34m\u001b[0m\u001b[0;34m\u001b[0m\u001b[0m\n\u001b[0m\u001b[1;32m   2671\u001b[0m             \u001b[0mim\u001b[0m \u001b[0;34m=\u001b[0m \u001b[0mim\u001b[0m\u001b[0;34m.\u001b[0m\u001b[0m_new\u001b[0m\u001b[0;34m(\u001b[0m\u001b[0mcore\u001b[0m\u001b[0;34m.\u001b[0m\u001b[0mmap_buffer\u001b[0m\u001b[0;34m(\u001b[0m\u001b[0mdata\u001b[0m\u001b[0;34m,\u001b[0m \u001b[0msize\u001b[0m\u001b[0;34m,\u001b[0m \u001b[0mdecoder_name\u001b[0m\u001b[0;34m,\u001b[0m \u001b[0;36m0\u001b[0m\u001b[0;34m,\u001b[0m \u001b[0margs\u001b[0m\u001b[0;34m)\u001b[0m\u001b[0;34m)\u001b[0m\u001b[0;34m\u001b[0m\u001b[0;34m\u001b[0m\u001b[0m\n\u001b[1;32m   2672\u001b[0m             \u001b[0mim\u001b[0m\u001b[0;34m.\u001b[0m\u001b[0mreadonly\u001b[0m \u001b[0;34m=\u001b[0m \u001b[0;36m1\u001b[0m\u001b[0;34m\u001b[0m\u001b[0;34m\u001b[0m\u001b[0m\n",
            "\u001b[0;32m/usr/local/lib/python3.7/dist-packages/PIL/Image.py\u001b[0m in \u001b[0;36mnew\u001b[0;34m(mode, size, color)\u001b[0m\n\u001b[1;32m   2576\u001b[0m         \u001b[0mim\u001b[0m\u001b[0;34m.\u001b[0m\u001b[0mpalette\u001b[0m \u001b[0;34m=\u001b[0m \u001b[0mImagePalette\u001b[0m\u001b[0;34m.\u001b[0m\u001b[0mImagePalette\u001b[0m\u001b[0;34m(\u001b[0m\u001b[0;34m)\u001b[0m\u001b[0;34m\u001b[0m\u001b[0;34m\u001b[0m\u001b[0m\n\u001b[1;32m   2577\u001b[0m         \u001b[0mcolor\u001b[0m \u001b[0;34m=\u001b[0m \u001b[0mim\u001b[0m\u001b[0;34m.\u001b[0m\u001b[0mpalette\u001b[0m\u001b[0;34m.\u001b[0m\u001b[0mgetcolor\u001b[0m\u001b[0;34m(\u001b[0m\u001b[0mcolor\u001b[0m\u001b[0;34m)\u001b[0m\u001b[0;34m\u001b[0m\u001b[0;34m\u001b[0m\u001b[0m\n\u001b[0;32m-> 2578\u001b[0;31m     \u001b[0;32mreturn\u001b[0m \u001b[0mim\u001b[0m\u001b[0;34m.\u001b[0m\u001b[0m_new\u001b[0m\u001b[0;34m(\u001b[0m\u001b[0mcore\u001b[0m\u001b[0;34m.\u001b[0m\u001b[0mfill\u001b[0m\u001b[0;34m(\u001b[0m\u001b[0mmode\u001b[0m\u001b[0;34m,\u001b[0m \u001b[0msize\u001b[0m\u001b[0;34m,\u001b[0m \u001b[0mcolor\u001b[0m\u001b[0;34m)\u001b[0m\u001b[0;34m)\u001b[0m\u001b[0;34m\u001b[0m\u001b[0;34m\u001b[0m\u001b[0m\n\u001b[0m\u001b[1;32m   2579\u001b[0m \u001b[0;34m\u001b[0m\u001b[0m\n\u001b[1;32m   2580\u001b[0m \u001b[0;34m\u001b[0m\u001b[0m\n",
            "\u001b[0;31mKeyboardInterrupt\u001b[0m: "
          ]
        }
      ]
    },
    {
      "cell_type": "markdown",
      "metadata": {
        "id": "3k2dpRQHH3mq"
      },
      "source": [
        "We then create a training loop by generating outputs, calculating loss, backpropagating, and updating weights. Here, we generate a random example target to optimize against:"
      ]
    },
    {
      "cell_type": "code",
      "metadata": {
        "colab": {
          "base_uri": "https://localhost:8080/"
        },
        "id": "f5-xbxQQH7QG",
        "outputId": "597df1db-3316-417a-9ca3-7b8b4cb46795"
      },
      "source": [
        "# Create example target\n",
        "target = torch.randn(10)\n",
        "# Make it the same shape as output\n",
        "target = target.view(1, -1)  \n",
        "\n",
        "# Begin training loop\n",
        "# Zero the gradient buffers\n",
        "optimizer.zero_grad()   \n",
        "# Generate outputs\n",
        "output = net(input)\n",
        "# Calculate loss\n",
        "loss = criterion(output, target)\n",
        "# Backpropagate loss\n",
        "loss.backward()\n",
        "# Perform update\n",
        "optimizer.step()\n",
        "\n",
        "print(loss)"
      ],
      "execution_count": null,
      "outputs": [
        {
          "output_type": "stream",
          "name": "stdout",
          "text": [
            "tensor(1.7320, grad_fn=<MseLossBackward0>)\n"
          ]
        }
      ]
    },
    {
      "cell_type": "markdown",
      "metadata": {
        "id": "UEdvpEQyXYAP"
      },
      "source": [
        "In practice, we would feed this CNN a labelled dataset (MNIST, for example), and iterate through it with the training loop above. "
      ]
    },
    {
      "cell_type": "code",
      "source": [
        ""
      ],
      "metadata": {
        "id": "WNRdIqo0-5Nl"
      },
      "execution_count": null,
      "outputs": []
    },
    {
      "cell_type": "markdown",
      "source": [
        ""
      ],
      "metadata": {
        "id": "B7scRoLkD54R"
      }
    }
  ]
}